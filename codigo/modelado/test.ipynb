{
 "cells": [
  {
   "cell_type": "markdown",
   "metadata": {},
   "source": [
    "## Test para probar el pipeline"
   ]
  },
  {
   "cell_type": "code",
   "execution_count": 1,
   "metadata": {},
   "outputs": [
    {
     "name": "stderr",
     "output_type": "stream",
     "text": [
      "C:\\Users\\Michael Claros\\AppData\\Local\\Temp\\ipykernel_22740\\2254086320.py:2: DeprecationWarning: \n",
      "Pyarrow will become a required dependency of pandas in the next major release of pandas (pandas 3.0),\n",
      "(to allow more performant data types, such as the Arrow string type, and better interoperability with other libraries)\n",
      "but was not found to be installed on your system.\n",
      "If this would cause problems for you,\n",
      "please provide us feedback at https://github.com/pandas-dev/pandas/issues/54466\n",
      "        \n",
      "  import pandas as pd\n"
     ]
    },
    {
     "name": "stdout",
     "output_type": "stream",
     "text": [
      "Predicción para los nuevos datos: Cluster [2]\n"
     ]
    }
   ],
   "source": [
    "import joblib\n",
    "import pandas as pd\n",
    "\n",
    "# Especifica la ruta donde se encuentra el archivo del modelo\n",
    "modelo_guardado = '../../datos/model/modelo_cluster.pkl'\n",
    "\n",
    "# Cargar el modelo desde el archivo\n",
    "pipeline_cargado = joblib.load(modelo_guardado)\n",
    "\n",
    "# Crear nuevos datos con todas las columnas requeridas\n",
    "datos_nuevos = pd.DataFrame({'ciudad': ['Bogota'],\n",
    "                             'tipo_de_contrato': ['Prestación de servicios'],\n",
    "                             'estado_contrato': ['En ejecución'],\n",
    "                             'modalidad_de_contratacion': ['Regimen especial'],\n",
    "                             'fecha_de_firma_month': [1],  # Se debe proporcionar el mes de la fecha de firma\n",
    "                             'duracion_contrato_dias': [119],\n",
    "                             'valor_del_contrato': [37724000],  # Asegúrate de que esta columna exista\n",
    "                             'valor_contrato_por_dia': [317008]})  # Asegúrate de que esta columna exista\n",
    "\n",
    "# Realizar la predicción\n",
    "predicciones = pipeline_cargado.predict(datos_nuevos)\n",
    "print(\"Predicción para los nuevos datos: Cluster\", predicciones)"
   ]
  }
 ],
 "metadata": {
  "kernelspec": {
   "display_name": "Python 3",
   "language": "python",
   "name": "python3"
  },
  "language_info": {
   "codemirror_mode": {
    "name": "ipython",
    "version": 3
   },
   "file_extension": ".py",
   "mimetype": "text/x-python",
   "name": "python",
   "nbconvert_exporter": "python",
   "pygments_lexer": "ipython3",
   "version": "3.11.3"
  }
 },
 "nbformat": 4,
 "nbformat_minor": 2
}
