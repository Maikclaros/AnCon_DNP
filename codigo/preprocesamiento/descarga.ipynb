{
 "cells": [
  {
   "cell_type": "markdown",
   "metadata": {},
   "source": [
    "### Descargar información desde una API"
   ]
  },
  {
   "cell_type": "code",
   "execution_count": 8,
   "metadata": {},
   "outputs": [],
   "source": [
    "# consulta datos abiertos\n",
    "\n",
    "import pandas as pd\n",
    "from sodapy import Socrata\n"
   ]
  },
  {
   "cell_type": "code",
   "execution_count": 9,
   "metadata": {},
   "outputs": [],
   "source": [
    "client = Socrata(\"www.datos.gov.co\",\"dnISsBp2sXdRQ3Ivnm9SoZaoH\")## Cambie token_aqui por el token recien creado\n",
    "                #  username=\"su_usuario\", ## Correo electrónico de ingreso a la plataforma de datos abiertos\n",
    "                #  password=\"su_contraseña\")## Contraseña de ingreso a la plataforma de datos abiertos"
   ]
  },
  {
   "cell_type": "code",
   "execution_count": 10,
   "metadata": {},
   "outputs": [],
   "source": [
    "socrata_dataset_identifier = \"jbjy-vk9h\"\n",
    "\n",
    "Query = \"\"\"\n",
    "select \n",
    "    *\n",
    "where nit_entidad = 899999011\n",
    "\"\"\"\n",
    "\n",
    "contratos_2020 = client.get(socrata_dataset_identifier, content_type=\"json\", query=Query)\n",
    "\n",
    "secopII_2020_DF = pd.DataFrame(pd.DataFrame.from_dict(contratos_2020))"
   ]
  },
  {
   "cell_type": "code",
   "execution_count": 13,
   "metadata": {},
   "outputs": [],
   "source": [
    "secopII_2020_DF.to_csv('../../datos/Raw/contratos_dnp_2020.csv')"
   ]
  },
  {
   "cell_type": "code",
   "execution_count": 17,
   "metadata": {},
   "outputs": [
    {
     "name": "stdout",
     "output_type": "stream",
     "text": [
      "<class 'pandas.core.frame.DataFrame'>\n",
      "RangeIndex: 1000 entries, 0 to 999\n",
      "Data columns (total 71 columns):\n",
      " #   Column                                                            Non-Null Count  Dtype \n",
      "---  ------                                                            --------------  ----- \n",
      " 0   nombre_entidad                                                    1000 non-null   object\n",
      " 1   nit_entidad                                                       1000 non-null   object\n",
      " 2   departamento                                                      1000 non-null   object\n",
      " 3   ciudad                                                            1000 non-null   object\n",
      " 4   localizaci_n                                                      1000 non-null   object\n",
      " 5   orden                                                             1000 non-null   object\n",
      " 6   sector                                                            1000 non-null   object\n",
      " 7   rama                                                              1000 non-null   object\n",
      " 8   entidad_centralizada                                              1000 non-null   object\n",
      " 9   proceso_de_compra                                                 1000 non-null   object\n",
      " 10  id_contrato                                                       1000 non-null   object\n",
      " 11  referencia_del_contrato                                           1000 non-null   object\n",
      " 12  estado_contrato                                                   1000 non-null   object\n",
      " 13  codigo_de_categoria_principal                                     1000 non-null   object\n",
      " 14  descripcion_del_proceso                                           1000 non-null   object\n",
      " 15  tipo_de_contrato                                                  1000 non-null   object\n",
      " 16  modalidad_de_contratacion                                         1000 non-null   object\n",
      " 17  justificacion_modalidad_de                                        1000 non-null   object\n",
      " 18  fecha_de_firma                                                    938 non-null    object\n",
      " 19  fecha_de_inicio_del_contrato                                      950 non-null    object\n",
      " 20  fecha_de_fin_del_contrato                                         988 non-null    object\n",
      " 21  condiciones_de_entrega                                            1000 non-null   object\n",
      " 22  tipodocproveedor                                                  1000 non-null   object\n",
      " 23  documento_proveedor                                               1000 non-null   object\n",
      " 24  proveedor_adjudicado                                              1000 non-null   object\n",
      " 25  es_grupo                                                          1000 non-null   object\n",
      " 26  es_pyme                                                           1000 non-null   object\n",
      " 27  habilita_pago_adelantado                                          1000 non-null   object\n",
      " 28  liquidaci_n                                                       1000 non-null   object\n",
      " 29  obligaci_n_ambiental                                              1000 non-null   object\n",
      " 30  obligaciones_postconsumo                                          1000 non-null   object\n",
      " 31  reversion                                                         1000 non-null   object\n",
      " 32  origen_de_los_recursos                                            1000 non-null   object\n",
      " 33  destino_gasto                                                     1000 non-null   object\n",
      " 34  valor_del_contrato                                                1000 non-null   object\n",
      " 35  valor_de_pago_adelantado                                          1000 non-null   object\n",
      " 36  valor_facturado                                                   1000 non-null   object\n",
      " 37  valor_pendiente_de_pago                                           1000 non-null   object\n",
      " 38  valor_pagado                                                      1000 non-null   object\n",
      " 39  valor_amortizado                                                  1000 non-null   object\n",
      " 40  valor_pendiente_de                                                1000 non-null   object\n",
      " 41  valor_pendiente_de_ejecucion                                      1000 non-null   object\n",
      " 42  estado_bpin                                                       1000 non-null   object\n",
      " 43  c_digo_bpin                                                       1000 non-null   object\n",
      " 44  anno_bpin                                                         1000 non-null   object\n",
      " 45  saldo_cdp                                                         1000 non-null   object\n",
      " 46  saldo_vigencia                                                    1000 non-null   object\n",
      " 47  espostconflicto                                                   1000 non-null   object\n",
      " 48  dias_adicionados                                                  1000 non-null   object\n",
      " 49  puntos_del_acuerdo                                                1000 non-null   object\n",
      " 50  pilares_del_acuerdo                                               1000 non-null   object\n",
      " 51  urlproceso                                                        1000 non-null   object\n",
      " 52  nombre_representante_legal                                        1000 non-null   object\n",
      " 53  nacionalidad_representante_legal                                  1000 non-null   object\n",
      " 54  domicilio_representante_legal                                     1000 non-null   object\n",
      " 55  tipo_de_identificaci_n_representante_legal                        1000 non-null   object\n",
      " 56  identificaci_n_representante_legal                                1000 non-null   object\n",
      " 57  g_nero_representante_legal                                        1000 non-null   object\n",
      " 58  presupuesto_general_de_la_nacion_pgn                              1000 non-null   object\n",
      " 59  sistema_general_de_participaciones                                1000 non-null   object\n",
      " 60  sistema_general_de_regal_as                                       1000 non-null   object\n",
      " 61  recursos_propios_alcald_as_gobernaciones_y_resguardos_ind_genas_  1000 non-null   object\n",
      " 62  recursos_de_credito                                               1000 non-null   object\n",
      " 63  recursos_propios                                                  1000 non-null   object\n",
      " 64  codigo_entidad                                                    1000 non-null   object\n",
      " 65  codigo_proveedor                                                  1000 non-null   object\n",
      " 66  objeto_del_contrato                                               1000 non-null   object\n",
      " 67  fecha_inicio_liquidacion                                          22 non-null     object\n",
      " 68  fecha_fin_liquidacion                                             22 non-null     object\n",
      " 69  fecha_de_inicio_de_ejecucion                                      275 non-null    object\n",
      " 70  fecha_de_fin_de_ejecucion                                         274 non-null    object\n",
      "dtypes: object(71)\n",
      "memory usage: 554.8+ KB\n"
     ]
    }
   ],
   "source": [
    "secopII_2020_DF.info()"
   ]
  },
  {
   "cell_type": "code",
   "execution_count": 11,
   "metadata": {},
   "outputs": [
    {
     "name": "stdout",
     "output_type": "stream",
     "text": [
      "<class 'pandas.core.frame.DataFrame'>\n",
      "RangeIndex: 1000 entries, 0 to 999\n",
      "Data columns (total 71 columns):\n",
      " #   Column                                                            Non-Null Count  Dtype \n",
      "---  ------                                                            --------------  ----- \n",
      " 0   nombre_entidad                                                    1000 non-null   object\n",
      " 1   nit_entidad                                                       1000 non-null   object\n",
      " 2   departamento                                                      1000 non-null   object\n",
      " 3   ciudad                                                            1000 non-null   object\n",
      " 4   localizaci_n                                                      1000 non-null   object\n",
      " 5   orden                                                             1000 non-null   object\n",
      " 6   sector                                                            1000 non-null   object\n",
      " 7   rama                                                              1000 non-null   object\n",
      " 8   entidad_centralizada                                              1000 non-null   object\n",
      " 9   proceso_de_compra                                                 1000 non-null   object\n",
      " 10  id_contrato                                                       1000 non-null   object\n",
      " 11  referencia_del_contrato                                           1000 non-null   object\n",
      " 12  estado_contrato                                                   1000 non-null   object\n",
      " 13  codigo_de_categoria_principal                                     1000 non-null   object\n",
      " 14  descripcion_del_proceso                                           1000 non-null   object\n",
      " 15  tipo_de_contrato                                                  1000 non-null   object\n",
      " 16  modalidad_de_contratacion                                         1000 non-null   object\n",
      " 17  justificacion_modalidad_de                                        1000 non-null   object\n",
      " 18  fecha_de_firma                                                    938 non-null    object\n",
      " 19  fecha_de_inicio_del_contrato                                      950 non-null    object\n",
      " 20  fecha_de_fin_del_contrato                                         988 non-null    object\n",
      " 21  condiciones_de_entrega                                            1000 non-null   object\n",
      " 22  tipodocproveedor                                                  1000 non-null   object\n",
      " 23  documento_proveedor                                               1000 non-null   object\n",
      " 24  proveedor_adjudicado                                              1000 non-null   object\n",
      " 25  es_grupo                                                          1000 non-null   object\n",
      " 26  es_pyme                                                           1000 non-null   object\n",
      " 27  habilita_pago_adelantado                                          1000 non-null   object\n",
      " 28  liquidaci_n                                                       1000 non-null   object\n",
      " 29  obligaci_n_ambiental                                              1000 non-null   object\n",
      " 30  obligaciones_postconsumo                                          1000 non-null   object\n",
      " 31  reversion                                                         1000 non-null   object\n",
      " 32  origen_de_los_recursos                                            1000 non-null   object\n",
      " 33  destino_gasto                                                     1000 non-null   object\n",
      " 34  valor_del_contrato                                                1000 non-null   object\n",
      " 35  valor_de_pago_adelantado                                          1000 non-null   object\n",
      " 36  valor_facturado                                                   1000 non-null   object\n",
      " 37  valor_pendiente_de_pago                                           1000 non-null   object\n",
      " 38  valor_pagado                                                      1000 non-null   object\n",
      " 39  valor_amortizado                                                  1000 non-null   object\n",
      " 40  valor_pendiente_de                                                1000 non-null   object\n",
      " 41  valor_pendiente_de_ejecucion                                      1000 non-null   object\n",
      " 42  estado_bpin                                                       1000 non-null   object\n",
      " 43  c_digo_bpin                                                       1000 non-null   object\n",
      " 44  anno_bpin                                                         1000 non-null   object\n",
      " 45  saldo_cdp                                                         1000 non-null   object\n",
      " 46  saldo_vigencia                                                    1000 non-null   object\n",
      " 47  espostconflicto                                                   1000 non-null   object\n",
      " 48  dias_adicionados                                                  1000 non-null   object\n",
      " 49  puntos_del_acuerdo                                                1000 non-null   object\n",
      " 50  pilares_del_acuerdo                                               1000 non-null   object\n",
      " 51  urlproceso                                                        1000 non-null   object\n",
      " 52  nombre_representante_legal                                        1000 non-null   object\n",
      " 53  nacionalidad_representante_legal                                  1000 non-null   object\n",
      " 54  domicilio_representante_legal                                     1000 non-null   object\n",
      " 55  tipo_de_identificaci_n_representante_legal                        1000 non-null   object\n",
      " 56  identificaci_n_representante_legal                                1000 non-null   object\n",
      " 57  g_nero_representante_legal                                        1000 non-null   object\n",
      " 58  presupuesto_general_de_la_nacion_pgn                              1000 non-null   object\n",
      " 59  sistema_general_de_participaciones                                1000 non-null   object\n",
      " 60  sistema_general_de_regal_as                                       1000 non-null   object\n",
      " 61  recursos_propios_alcald_as_gobernaciones_y_resguardos_ind_genas_  1000 non-null   object\n",
      " 62  recursos_de_credito                                               1000 non-null   object\n",
      " 63  recursos_propios                                                  1000 non-null   object\n",
      " 64  codigo_entidad                                                    1000 non-null   object\n",
      " 65  codigo_proveedor                                                  1000 non-null   object\n",
      " 66  objeto_del_contrato                                               1000 non-null   object\n",
      " 67  fecha_inicio_liquidacion                                          22 non-null     object\n",
      " 68  fecha_fin_liquidacion                                             22 non-null     object\n",
      " 69  fecha_de_inicio_de_ejecucion                                      275 non-null    object\n",
      " 70  fecha_de_fin_de_ejecucion                                         274 non-null    object\n",
      "dtypes: object(71)\n",
      "memory usage: 554.8+ KB\n"
     ]
    }
   ],
   "source": [
    "secopII_2020_DF.info()"
   ]
  },
  {
   "cell_type": "code",
   "execution_count": 6,
   "metadata": {},
   "outputs": [],
   "source": [
    "# las tablas o archivos nuevos se guardan en datos / processed\n",
    "\n",
    "# el codigo de lo que se haga se debe guardar en codigo / procesamiento "
   ]
  }
 ],
 "metadata": {
  "kernelspec": {
   "display_name": "Python 3",
   "language": "python",
   "name": "python3"
  },
  "language_info": {
   "codemirror_mode": {
    "name": "ipython",
    "version": 3
   },
   "file_extension": ".py",
   "mimetype": "text/x-python",
   "name": "python",
   "nbconvert_exporter": "python",
   "pygments_lexer": "ipython3",
   "version": "3.11.3"
  }
 },
 "nbformat": 4,
 "nbformat_minor": 2
}
