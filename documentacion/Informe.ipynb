{
 "cells": [
  {
   "cell_type": "markdown",
   "metadata": {},
   "source": [
    "<h1 align=center style=\"font-size:3vw\">Facultad de Economía</h1>\n",
    "<h1 align=center style=\"font-size:3vw\">Seminario de Programación</h1>\n",
    "<h2 align=center>Maestría en Inteligencia de Negocios</h2>\n",
    "<h2 align=left>Integrantes:</h2>\n",
    "<h3 align=left> Michael Steven Claros Vanegas. </h3> \n",
    "<h3 align=left> Karen Cecilia Henriquez Orozco. </h3>\n",
    "<h3 align=left> Daniela Morales Echeverri. </h3>\n",
    "<h3 align=left> Jose Sebastián Cubillos Fonseca. </h3>\n",
    "\n",
    "<h1 align=center style=\"font-size:2vw\"><span style=\"color:#228823\">Análisis Contratos Electronicos (SECOP 2) - Departamento de Planeación Nacional \"DNP\"</span></h1>"
   ]
  },
  {
   "cell_type": "markdown",
   "metadata": {},
   "source": [
    "## Introducción:"
   ]
  },
  {
   "cell_type": "markdown",
   "metadata": {},
   "source": [
    "Uno de los propósitos de aplicar analítica en las bases de datos de contratos electrónicos en Colombia:\n",
    "\n",
    "1. Observar tendencias y acciones que emprende una entidad pública para su funcionamiento.\n",
    "2. Identificar incrementos o decrementos en contratos para cumplimiento de su quehacer institucional.\n",
    "3. Determinar si la gestión administrativa es óptima de acuerdo con su andamiaje y contratación pública.\n",
    "4. Identificar concentración de recursos por procesos de contratación y posibles cifras que afectan la tendencia de lo contratado por una entidad pública.\n",
    "\n",
    "Lo anteriores numerales nos permite situar en que podemos enfocar esta revisión preliminar de los datos de contratación electrónica y siendo específicos en el Departamento Nacional de Planeación.\n",
    "\n",
    "Es importante distinguir que la herramienta por excelencia en donde se puede extraer toda la información para lograr este análisis es el SECOP II: \"Es la nueva versión del SECOP (Sistema Electrónico de Contratación Pública) para pasar de la simple publicidad a una plataforma transaccional que permite a Compradores y Proveedores realizar el Proceso de Contratación en línea.  \n",
    "\n",
    "Desde su cuenta, las Entidades Estatales (Compradores) pueden crear y adjudicar Procesos de Contratación, registrar y hacer seguimiento a la ejecución contractual. Los Proveedores también pueden tener su propia cuenta, encontrar oportunidades de negocio, hacer seguimiento a los Procesos y enviar observaciones y Ofertas...\"\n",
    "De igual manera es importante resaltar que \"asegura la trazabilidad y la transparencia de la Gestión contractual. Los proveedores son activos ya que deben registrarse y tener interacción con las Entidades Estatales a través del sistema y pueden solicitar informes acerca del proceso que les interesa y para esto cuentan con el clasificador de bienes y servicios\"\n",
    "\n",
    "Fuente: https://www.colombiacompra.gov.co/ciudadanos/preguntas-frecuentes/secop-ii\n",
    "\n",
    "Dado el contexto, en que las entidades de orden público y que integran el Presupuesto General de la Nación, es decir que administran recursos públicos, es importante identificar que el registro de la información cumple con los requerimientos para todos los procesos contractuales y esto se identifican desde una correcta planificación en la elaboración del Plan Anual de Adquisiciones (PAA) - \" es una oportunidad para empezar a implementar y hacer uso del SECOP II en su Entidad Estatal. Para el efecto, debe registrar la Entidad Estatal y los usuarios encargados de elaborar, aprobar y publicar el PAA.\n",
    "\n",
    "La funcionalidad del PAA en el SECOP II permite hacer un seguimiento cercano a su planeación y ejecución, y tener visible las diferentes versiones del PAA para hacer seguimiento a los cambios realizados durante el año\".\n",
    "\n",
    "Fuente: https://www.colombiacompra.gov.co/plan-anual-de-adquisiciones/que-es-el-plan-anual-de-adquisiciones\n",
    "\n",
    "Una vez, la acción de planificación correcta las entidades deben garantizar una correcta ejecución del PAA y un correcto diligenciamiento de los procesos contractuales.\n",
    "\n",
    "Es por eso por lo que, en este análisis exploratorio, se debe accionar en revisión de datos incompletos, aproximación con otras variables para identificar número de contratos por año, concentración de contratos por modalidad y tipo y de igual manera utilizar medidas de tendencia central para distinguir procesos contractuales que estén por encima de la media y enfocarse en el ejercicio de transparencia y gestión administrativa del DNP.\n",
    "\n",
    "Adicional al análisis que se puede enfocar por número de contratos, es indispensable identificar como los recursos públicos son manejados acorde a las situaciones de respuesta institucional y misional como lo es el Departamento Nacional de Planeación, es por esto que evidenciaremos la concentración de recursos por modalidad de contratación y su respectivo peso porcentual para identificar situaciones atípicas o evidenciar que corresponden los contratos con mayores recursos asignados. De igual manera, demostrar que las asignaciones presupuestales que tiene una entidad pública como el caso de recursos de funcionamiento e inversión puede ser limitados y no es necesario aplicar ejercicios de proyecciones, sino de priorización de gasto y cumplimiento institucional.\n",
    "\n",
    "Dado lo anterior, se hará una serie de pasos que permita dar claridad de las acciones exploratorias y analíticas que se efectúan a los datos de los contratos de las vigencias 2020 a 2023.\n"
   ]
  },
  {
   "cell_type": "markdown",
   "metadata": {},
   "source": [
    "### Objetivo:"
   ]
  },
  {
   "cell_type": "markdown",
   "metadata": {},
   "source": [
    "Aplicar un análisis exploratorio de la información de contratos existentes en el sistema electrónico de contratación para las vigencias 2020 al 2023 del Departamento Nacional de Planeación, el cual permitirá identificar concentración de número de contratos y recursos adjudicados para efectuar controles y evidenciar un control previo, durante y posterior al uso de los dineros públicos, esto brindará un enfoque analítico por clusters al aplicar desarrollos como aplicaciones y/o estándares de programación para analizar un volumen de datos como lo son los contratos públicos en el sistema de contratación estatal en Colombia."
   ]
  },
  {
   "cell_type": "markdown",
   "metadata": {},
   "source": [
    "### Metodología:"
   ]
  },
  {
   "cell_type": "markdown",
   "metadata": {},
   "source": [
    "Para el análisis de los datos de contratación electrónica del Departamento Nacional de Planeación en Colombia, se seguirán los siguientes pasos:\n",
    "\n",
    "*Extracción de Datos*: \n",
    " Se extraerán los datos relevantes del Sistema Electrónico de Contratación Pública (SECOP II), que es la principal fuente de información para este análisis. Los datos extraídos incluirán detalles sobre los contratos, como la entidad pública involucrada, el valor del contrato, la modalidad y el tipo de contrato, entre otros.\n",
    "\n",
    "*Limpieza de Datos*: \n",
    " Se realizará una limpieza de los datos extraídos para garantizar que estén en un formato adecuado para el análisis. Esto incluirá la gestión de datos faltantes, la eliminación de posibles duplicados y la corrección de errores de entrada de datos.\n",
    "\n",
    "*Análisis Exploratorio de Datos*:\n",
    " Se realizará un análisis exploratorio de los datos para identificar tendencias, patrones y anomalías. Esto incluirá la observación de las tendencias de contratación a lo largo del tiempo, la identificación de incrementos o decrementos en los contratos y la observación de la concentración de recursos por procesos de contratación.\n",
    "\n",
    "*Evaluación de la Gestión Administrativa*:\n",
    " Se evaluará la eficiencia de la gestión administrativa mediante la comparación de la planificación (Plan Anual de Adquisiciones - PAA) con la ejecución real de los contratos.\n",
    "\n",
    "*Análisis de Transparencia*:\n",
    " Se evaluará la transparencia de la contratación pública mediante la identificación de contratos que están por encima de la media en términos de valor o volumen.\n",
    "\n",
    "*Análisis de la Asignación de Recursos*:\n",
    " Se examinará cómo se asignan los recursos públicos. Esto incluirá la identificación de la concentración de recursos por modalidad de contratación y su respectivo peso porcentual.\n",
    "\n",
    "*Interpretación y Comunicación de los Resultados*:\n",
    " Finalmente, se interpretarán los resultados del análisis en el contexto del Departamento Nacional de Planeación y su misión institucional. Los hallazgos se comunicarán de manera clara y concisa a las partes interesadas pertinentes.\n",
    " \n",
    "Esta metodología permitirá una revisión preliminar exhaustiva de los datos de contratación electrónica y proporcionará una base sólida para futuras investigaciones y análisis."
   ]
  },
  {
   "cell_type": "markdown",
   "metadata": {},
   "source": [
    "### Análisis por número de contratos:"
   ]
  },
  {
   "cell_type": "markdown",
   "metadata": {},
   "source": [
    "1. La tendencia de número de contratos para la vigencia 2020, 2021 y 2022 son estables los crecimientos son del 2020 al 2021 4.9%, 2021 al 2022 6.6% siendo estos en periodos normales del quehacer institucional. EL crecimiento del 2022 al 2023 corresponde al 80,1% esto puede estar enfocado al proceso de elaboración, diseño, tramite ante el legislativo del nuevo Plan Nacional de Desarrollo.\n",
    "\n",
    "2. La gestión administrativa del DNP, se refleja en los meses que inician las vigencias:\n",
    "\n",
    "- a) Enero y febrero de la vigencia 2020, se concentra la contratación de 291 y 290 respectivamente, el cual en términos porcentuales es 48.2%.\n",
    "- b) Enero vigencia 2021, concentra 681 contratos, el cual en términos porcentuales es de 63.8%.\n",
    "- c) Enero vigencia 2022, concentra 963 contratos, el cual en términos porcentuales es de 84.5%.\n",
    "- d) Para la vigencia 2023 la concentración contractual varia en enero son 636 contratos (31% de concentración), mes de junio 344 contratos (16.8% de concentración) y el mes de julio 296 contratos (14.4% de concentración)\n",
    "\n",
    "Lo anterior refleja acciones de la institución que al inicio de las vigencias prepara su andamiaje y funcionamiento para el cumplimiento de sus funciones."
   ]
  },
  {
   "cell_type": "markdown",
   "metadata": {},
   "source": [
    "![Gráfica](graficas/grafica1.png)"
   ]
  },
  {
   "cell_type": "markdown",
   "metadata": {},
   "source": [
    "![Gráfica](graficas/grafica2.png)"
   ]
  },
  {
   "cell_type": "markdown",
   "metadata": {},
   "source": [
    "### Análisis por número de contratos por estado:"
   ]
  },
  {
   "cell_type": "markdown",
   "metadata": {},
   "source": [
    "El estado de los contratos permite evidenciar la curva y acción normal que tuvieron los contratos en las vigencias para la efectiva entrega de bienes y servicios. En este sentido se puede identificar lo siguiente:\n",
    "\n",
    "1) Para la vigencia 2020, 541 contratos activos representando el 53% de la contratación anual, esto puede evidenciar la acción institucional enfocado en prestación de servicios profesionales, contratos básicos de seguridad, cafetería, entre otros. Sin embargo, el estar activos puede denotar falta de gestión en que son contratos de vigencias anteriores y que no se han liquidado o efectuado su debido cierre.\n",
    "\n",
    "2) Para la vigencia 2021 se concentra en gran medida en contratos de ejecución siendo estos 589 representando el 55% de la acción contractual de esa vigencia. Adicional se observa una mayor acción administrativa ya que los activos pasan hacer solo 3 en esta vigencia y también se refuerza con los contratos cerrados para la vigencia en 162 contratos.\n",
    "\n",
    "3) Para la vigencia 2022, tiene una tendencia similar a la vigencia 2021, dado que la gestión administrativa mantiene enfocado en contratos de ejecución por 524 contratos representando el 46%, y en aumento los contratos en cierre siendo estos 295.\n",
    "\n",
    "4) Para la vigencia 2023 a la fecha, se distingue 1210 contratos en ejecución siendo esto el 59% y modificados 700 siendo el 34.1%, esto refleja la acción institucional que viene empleando el DNP al cumplimiento de su mayor propósito de esta vigencia en la puesta en marcha del PND."
   ]
  },
  {
   "cell_type": "markdown",
   "metadata": {},
   "source": [
    "![Gráfica](graficas/grafica3.png)"
   ]
  },
  {
   "cell_type": "markdown",
   "metadata": {},
   "source": [
    "### Análisis por número de contratos y modalidad de contratación:"
   ]
  },
  {
   "cell_type": "markdown",
   "metadata": {},
   "source": [
    "Este enfoque, reafirma los análisis preliminares y es como se concentra la contratación del DNP y en efecto se puede identificar que es por prestación de servicios sin entrar aún en discriminar año a año el comportamiento el 89.75% de las vigencias 2020, 2021, 2022 y 2023.\n",
    "\n",
    "1) Para la vigencia 2020 la contratación directa representa el 85.1% con 866 contratos.\n",
    "2) Para la vigencia 2021 la contratación directa representa el 89.3% con 954 contratos.\n",
    "3) Para la vigencia 2022 la contratación directa representa el 87.1% con 992 contratos.\n",
    "4) Para la vigencia 2023 la contratación directa representa el 93.8% con 1924 contratos.\n",
    "\n",
    "Dennota un aporte gigantesco en el ejercicio institucional enfocado a personal que desempeña labores por contrato prestación de servicios profesionales."
   ]
  },
  {
   "cell_type": "markdown",
   "metadata": {},
   "source": [
    "![Gráfica](graficas/grafica4.png)"
   ]
  },
  {
   "cell_type": "markdown",
   "metadata": {},
   "source": [
    "### Análisis por número de contratos y tipo de contratación:"
   ]
  },
  {
   "cell_type": "markdown",
   "metadata": {},
   "source": [
    "Este enfoque, permite andar más en donde se encuentra concentrada la contratación del DNP y en efecto se puede identificar que está centrado en la contratación directa sin entrar aún en discriminar año a año el comportamiento el 89% de las vigencias 2020, 2021, 2022 y 2023.\n",
    "\n",
    "1) Para la vigencia 2020 la contratación directa representa el 83% con 845 contratos.\n",
    "2) Para la vigencia 2021 la contratación directa representa el 88.7% con 947 contratos.\n",
    "3) Para la vigencia 2022 la contratación directa representa el 86% con 979 contratos.\n",
    "4) Para la vigencia 2023 la contratación directa representa el 93.6% con 1919 contratos.\n",
    "\n",
    "Esto conforme al total de contratos suscritos en las vigencias estudiadas, esto que puede evidenciar varios contratos por prestación de servicios profesionales, acción que puede determinar en el siguiente componente."
   ]
  },
  {
   "cell_type": "markdown",
   "metadata": {},
   "source": [
    "![Gráfica](graficas/grafica5.png)"
   ]
  },
  {
   "cell_type": "markdown",
   "metadata": {},
   "source": [
    "En términos agregados el DNP, tiene su concentración por número de contratos en prestación de servicios profesionales con un 89.75%, es el andamiaje institucional que permite el cumplimiento misional y por ende en todas las vigencias se presenta la mayor carga en desarrollar contratos para personas naturales y jurídicas. Sin embargo, en montos el tipo de contratos otros lideran con aproximadamente 3 billones de pesos, el cual se debe ahondar que puede estar generando ese incremento de apropiaciones y adjudicaciones por parte de la entidad."
   ]
  },
  {
   "cell_type": "markdown",
   "metadata": {},
   "source": [
    "### Análisis de recursos por años:"
   ]
  },
  {
   "cell_type": "markdown",
   "metadata": {},
   "source": [
    "Una vez identificado los tipos de contrato de mayor concentración por número de contratos y por su respectivo valor de adjudicación, procedemos a evaluar la tendencia de las vigencias 2020 al 2023 de los recursos y siendo efectivamente un dato atípico en para la vigencia 2021 por tipo de contrato “otro”:\n",
    "\n",
    "Ese contrato corresponde a:\n",
    "\n",
    "- Contratación directa por convenio interadministrativo.\n",
    "- Su valor de adjudicación 2.870.993.010.534\n",
    "- Empresa en territorio encargada de su ejecución.\n",
    "- Objeto contractual: DNP confiere mandato a en territorio para realizar la administración y operación del Fondo Regional para los Contratos Plan Pactos Territoriales con los recursos que ingresen a este y los demás que le sean transferidos\n",
    "\n",
    "De acuerdo con este dato atípico encontrado, que tenia su enfoque postpandemia en fortalecer las inversiones regionales, de igual manera:\n",
    "\n",
    "“Los Pactos Territoriales están definidos como un instrumento de articulación para la concertación de inversiones estratégicas de alto impacto que contribuyan a consolidar el desarrollo regional definido en el Plan Nacional de Desarrollo (PND y la construcción de la Paz Total).\n",
    "Para ello, proveen la adopción de metodologías con enfoque de género a través del trabajo articulado con la Consejería Presidencial para la Equidad de la Mujer; y la concurrencia de recursos del orden nacional y territorial, público, privado y/o de cooperación internacional, bajo la coordinación del Departamento Nacional de Planeación (DNP). Los departamentos, municipios, Esquemas Asociativos Territoriales y la Nación podrán suscribir este tipo de pactos”\n",
    "\n",
    "Fuente: https://www.dnp.gov.co/LaEntidad_/subdireccion-general-inversiones-seguimiento-evaluacion/direccion-programacion-inversiones-publicas/Paginas/pactos-territoriales.aspx#:~:text=%E2%80%8BLos%20Pactos%20Territoriales%20est%C3%A1n,construcci%C3%B3n%20de%20la%20Paz%20Total.\n",
    "\n",
    "Es por este año que refleja ese esfuerzo institucional, el cual distorsiona la tendencia de los recursos apropiados para el funcionamiento e inversión del DNP, es por esto por lo que a continuación evidenciamos las tendencias por totales aislando este contrato, y concluyendo que la entidad no genera incrementos sustanciales para el andamiaje institucional.\n"
   ]
  },
  {
   "cell_type": "markdown",
   "metadata": {},
   "source": [
    "### Conclusiones:"
   ]
  },
  {
   "cell_type": "markdown",
   "metadata": {},
   "source": [
    "Como podemos observar del año 2020 al 2021 solo existió una variación del 0.05% cabe resaltar que la vigencia 2021 se aíslo el contrato por 2.8 billones y entender la dinámica de gasto sin datos atípicos del DNP. De igual manera para las siguientes vigencias se mantiene en términos nominales valores que rondan los 160 mil millones aproximadamente, incluso anotando que para la vigencia 2023 solo es el corte a mes de octubre, faltando cifras de cierre y reafirmar la premisa de incrementos no superiores al 2%.\n",
    "\n",
    "Es posible observar además que la gestión administrativa del Departamento Nacional de Planeación (DNP), refleja una alta concentración de contratos al inicio de cada vigencia. Si revisamos el estado de los contratos, podemos ver que por ejemplo, los contratos activos de vigencias anteriores, podrían eventualmente indicar una falta de gestión en la liquidación o cierre de estos contratos.\n",
    "\n",
    "En el informe, encontramos también que, la contratación del DNP se concentró en gran medida en la contratación directa, que representó un 83% de los contratos. Además el 89.75% de los contratos son por prestación de servicios profesionales.\n",
    "\n",
    "Durante el 2021 se detectó además un dato atípico que corresponde a un convenio interadministrativo con un valor de adjudicación de 2.870.993.010.534. Dicho contrato que tenía como objetivo fortalecer la inversiones regionales postpandemia, distorsiona la tendencia de los recursos apropiados para el funcionamiento e inversión del DNP, ya que no sólo modifica la media, sino que al crear los cluster, encontramos un sesgo importante por este dato.\n",
    "\n",
    "Al aislar este contrato atípico, se concluye que la entidad no genera incrementos sustanciales para el andamiaje institucional. Esto sugiere que, a pesar de la presencia de algunos contratos de alto valor, la mayoría de los recursos del DNP se destinan a mantener su funcionamiento regular.\n",
    "\n",
    "En el proceso de revisión, encontramos que no existe códigos o maneras de hacer match entre las herramientas de planeación como lo es el Plan Anual de Adquisiciones (PAA) y la base de datos de SECOP 2, en este sentido para futuras acciones, es proponer un enganche de datos para garantizar los cambios, seguimiento y generar banderas de corrupción, dado lo valioso de obtener sesgos desde la planeación a la ejecución contractual.\n",
    "\n",
    "Por último se desarrollo un cluster para generar agrupaciones de estos contratos, el cual de manera preliminar nos arroja comportamientos específicos de los contratos y pueda brindar características que permita arrojar en posteriores análisis montos óptimos de asignación de contratos por servicios prestados o bienes entregados a la administración pública.\n"
   ]
  }
 ],
 "metadata": {
  "kernelspec": {
   "display_name": "Python 3",
   "language": "python",
   "name": "python3"
  },
  "language_info": {
   "codemirror_mode": {
    "name": "ipython",
    "version": 3
   },
   "file_extension": ".py",
   "mimetype": "text/x-python",
   "name": "python",
   "nbconvert_exporter": "python",
   "pygments_lexer": "ipython3",
   "version": "3.11.3"
  }
 },
 "nbformat": 4,
 "nbformat_minor": 2
}
