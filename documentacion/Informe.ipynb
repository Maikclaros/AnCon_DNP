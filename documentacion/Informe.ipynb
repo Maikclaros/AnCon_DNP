{
 "cells": [
  {
   "cell_type": "markdown",
   "metadata": {},
   "source": [
    "<h1 align=center style=\"font-size:3vw\">Facultad de Economía</h1>\n",
    "<h1 align=center style=\"font-size:3vw\">Seminario de Programación</h1>\n",
    "<h2 align=center>Maestría en Inteligencia de Negocios</h2>\n",
    "<h2 align=left>Integrantes:</h2>\n",
    "<h3 align=left> Michael Steven Claros Vanegas. </h3> \n",
    "<h3 align=left> Karen Cecilia Henriquez Orozco. </h3>\n",
    "<h3 align=left> Daniela Morales Echeverri. </h3>\n",
    "<h3 align=left> Jose Sebastián Cubillos Fonseca. </h3>\n",
    "\n",
    "<h1 align=center style=\"font-size:2vw\"><span style=\"color:#228823\">Análisis Contratos Electronicos (SECOP 2) - Departamento de Planeación Nacional \"DNP\"</span></h1>"
   ]
  },
  {
   "cell_type": "markdown",
   "metadata": {},
   "source": [
    "## Introducción:"
   ]
  },
  {
   "cell_type": "markdown",
   "metadata": {},
   "source": [
    "Uno de los propósitos de aplicar analítica en las bases de datos de contratos electrónicos en Colombia:\n",
    "\n",
    "1. Observar tendencias y acciones que emprende una entidad pública para su funcionamiento.\n",
    "2. Identificar incrementos o decrementos en contratos para cumplimiento de su quehacer institucional.\n",
    "3. Determinar si la gestión administrativa es óptima de acuerdo con su andamiaje y contratación pública.\n",
    "4. Identificar concentración de recursos por procesos de contratación y posibles cifras que afectan la tendencia de lo contratado por una entidad pública.\n",
    "\n",
    "Lo anteriores numerales nos permite situar en que podemos enfocar esta revisión preliminar de los datos de contratación electrónica y siendo específicos en el Departamento Nacional de Planeación.\n",
    "\n",
    "Es importante distinguir que la herramienta por excelencia en donde se puede extraer toda la información para lograr este análisis es el SECOP II: \"Es la nueva versión del SECOP (Sistema Electrónico de Contratación Pública) para pasar de la simple publicidad a una plataforma transaccional que permite a Compradores y Proveedores realizar el Proceso de Contratación en línea.  \n",
    "\n",
    "Desde su cuenta, las Entidades Estatales (Compradores) pueden crear y adjudicar Procesos de Contratación, registrar y hacer seguimiento a la ejecución contractual. Los Proveedores también pueden tener su propia cuenta, encontrar oportunidades de negocio, hacer seguimiento a los Procesos y enviar observaciones y Ofertas...\"\n",
    "De igual manera es importante resaltar que \"asegura la trazabilidad y la transparencia de la Gestión contractual. Los proveedores son activos ya que deben registrarse y tener interacción con las Entidades Estatales a través del sistema y pueden solicitar informes acerca del proceso que les interesa y para esto cuentan con el clasificador de bienes y servicios\"\n",
    "\n",
    "Fuente: https://www.colombiacompra.gov.co/ciudadanos/preguntas-frecuentes/secop-ii\n",
    "\n",
    "Dado el contexto, en que las entidades de orden público y que integran el Presupuesto General de la Nación, es decir que administran recursos públicos, es importante identificar que el registro de la información cumple con los requerimientos para todos los procesos contractuales y esto se identifican desde una correcta planificación en la elaboración del Plan Anual de Adquisiciones (PAA) - \" es una oportunidad para empezar a implementar y hacer uso del SECOP II en su Entidad Estatal. Para el efecto, debe registrar la Entidad Estatal y los usuarios encargados de elaborar, aprobar y publicar el PAA.\n",
    "\n",
    "La funcionalidad del PAA en el SECOP II permite hacer un seguimiento cercano a su planeación y ejecución, y tener visible las diferentes versiones del PAA para hacer seguimiento a los cambios realizados durante el año\".\n",
    "\n",
    "Fuente: https://www.colombiacompra.gov.co/plan-anual-de-adquisiciones/que-es-el-plan-anual-de-adquisiciones\n",
    "\n",
    "Una vez, la acción de planificación correcta las entidades deben garantizar una correcta ejecución del PAA y un correcto diligenciamiento de los procesos contractuales.\n",
    "\n",
    "Es por eso por lo que, en este análisis exploratorio, se debe accionar en revisión de datos incompletos, aproximación con otras variables para identificar número de contratos por año, concentración de contratos por modalidad y tipo y de igual manera utilizar medidas de tendencia central para distinguir procesos contractuales que estén por encima de la media y enfocarse en el ejercicio de transparencia y gestión administrativa del DNP.\n",
    "\n",
    "Adicional al análisis que se puede enfocar por número de contratos, es indispensable identificar como los recursos públicos son manejados acorde a las situaciones de respuesta institucional y misional como lo es el Departamento Nacional de Planeación, es por esto que evidenciaremos la concentración de recursos por modalidad de contratación y su respectivo peso porcentual para identificar situaciones atípicas o evidenciar que corresponden los contratos con mayores recursos asignados. De igual manera, demostrar que las asignaciones presupuestales que tiene una entidad pública como el caso de recursos de funcionamiento e inversión puede ser limitados y no es necesario aplicar ejercicios de proyecciones, sino de priorización de gasto y cumplimiento institucional.\n",
    "\n",
    "Dado lo anterior, se hará una serie de pasos que permita dar claridad de las acciones exploratorias y analíticas que se efectúan a los datos de los contratos de las vigencias 2020 a 2023.\n"
   ]
  },
  {
   "cell_type": "markdown",
   "metadata": {},
   "source": [
    "### Objetivo:"
   ]
  },
  {
   "cell_type": "markdown",
   "metadata": {},
   "source": [
    "Aplicar un análisis exploratorio de la información de contratos existentes en el sistema electrónico de contratación para las vigencias 2020 al 2023 del Departamento Nacional de Planeación, el cual permitirá identificar concentración de número de contratos y recursos adjudicados para efectuar controles y evidenciar un control previo, durante y posterior al uso de los dineros públicos."
   ]
  },
  {
   "cell_type": "markdown",
   "metadata": {},
   "source": [
    "### Metodología:"
   ]
  },
  {
   "cell_type": "markdown",
   "metadata": {},
   "source": [
    "Para el análisis de los datos de contratación electrónica del Departamento Nacional de Planeación en Colombia, se seguirán los siguientes pasos:\n",
    "\n",
    "*Extracción de Datos*: \n",
    " Se extraerán los datos relevantes del Sistema Electrónico de Contratación Pública (SECOP II), que es la principal fuente de información para este análisis. Los datos extraídos incluirán detalles sobre los contratos, como la entidad pública involucrada, el valor del contrato, la modalidad y el tipo de contrato, entre otros.\n",
    "\n",
    "*Limpieza de Datos*: \n",
    " Se realizará una limpieza de los datos extraídos para garantizar que estén en un formato adecuado para el análisis. Esto incluirá la gestión de datos faltantes, la eliminación de posibles duplicados y la corrección de errores de entrada de datos.\n",
    "\n",
    "*Análisis Exploratorio de Datos*:\n",
    " Se realizará un análisis exploratorio de los datos para identificar tendencias, patrones y anomalías. Esto incluirá la observación de las tendencias de contratación a lo largo del tiempo, la identificación de incrementos o decrementos en los contratos y la observación de la concentración de recursos por procesos de contratación.\n",
    "\n",
    "*Evaluación de la Gestión Administrativa*:\n",
    " Se evaluará la eficiencia de la gestión administrativa mediante la comparación de la planificación (Plan Anual de Adquisiciones - PAA) con la ejecución real de los contratos.\n",
    "\n",
    "*Análisis de Transparencia*:\n",
    " Se evaluará la transparencia de la contratación pública mediante la identificación de contratos que están por encima de la media en términos de valor o volumen.\n",
    "\n",
    "*Análisis de la Asignación de Recursos*:\n",
    " Se examinará cómo se asignan los recursos públicos. Esto incluirá la identificación de la concentración de recursos por modalidad de contratación y su respectivo peso porcentual.\n",
    "\n",
    "*Interpretación y Comunicación de los Resultados*:\n",
    " Finalmente, se interpretarán los resultados del análisis en el contexto del Departamento Nacional de Planeación y su misión institucional. Los hallazgos se comunicarán de manera clara y concisa a las partes interesadas pertinentes.\n",
    " \n",
    "Esta metodología permitirá una revisión preliminar exhaustiva de los datos de contratación electrónica y proporcionará una base sólida para futuras investigaciones y análisis."
   ]
  },
  {
   "cell_type": "markdown",
   "metadata": {},
   "source": [
    "### Resultados:"
   ]
  },
  {
   "cell_type": "code",
   "execution_count": 16,
   "metadata": {},
   "outputs": [],
   "source": [
    "# !pip install --upgrade nbformat\n",
    "# !pip install plotly\n",
    "# !pip install pandas\n",
    "# !pip install matplotlib\n",
    "# !pip install plotly"
   ]
  },
  {
   "cell_type": "code",
   "execution_count": 17,
   "metadata": {},
   "outputs": [],
   "source": [
    "import pandas as pd\n",
    "import seaborn as sns\n",
    "import matplotlib.pyplot as plt\n",
    "import plotly.express as px\n",
    "import nbformat"
   ]
  },
  {
   "cell_type": "code",
   "execution_count": 18,
   "metadata": {},
   "outputs": [],
   "source": [
    "pd.options.display.float_format = '{:,.2f}'.format # Se formatea el formato de visualización"
   ]
  },
  {
   "cell_type": "code",
   "execution_count": 19,
   "metadata": {},
   "outputs": [],
   "source": [
    "DF_contratos_v1 = pd.read_csv('../datos/Raw/contratos_dnp_2020_v1.csv') # Abrir base de datos"
   ]
  },
  {
   "cell_type": "code",
   "execution_count": 20,
   "metadata": {},
   "outputs": [],
   "source": [
    "# Convertir la fecha en formato de fecha\n",
    "DF_contratos_v1['fecha_de_firma'] = pd.to_datetime(DF_contratos_v1['fecha_de_firma'], errors='coerce')\n",
    "\n",
    "# Creación de nuevas columnas\n",
    "DF_contratos_v1['fecha_de_firma_ano'] = DF_contratos_v1['fecha_de_firma'].dt.year\n",
    "DF_contratos_v1['fecha_de_firma_periodo'] = DF_contratos_v1['fecha_de_firma'].dt.to_period('M')\n",
    "\n",
    "# Se convierte la columna en categórico\n",
    "DF_contratos_v1['fecha_de_firma_ano'] = DF_contratos_v1['fecha_de_firma_ano'].astype(str)\n",
    "DF_contratos_v1['fecha_de_firma_periodo'] = DF_contratos_v1['fecha_de_firma_periodo'].astype(str)"
   ]
  },
  {
   "cell_type": "markdown",
   "metadata": {},
   "source": [
    "### Análisis por número de contratos:"
   ]
  },
  {
   "cell_type": "markdown",
   "metadata": {},
   "source": [
    "1. La tendencia de número de contratos para la vigencia 2020, 2021 y 2022 son estables los crecimientos son del 2020 al 2021 4.9%, 2021 al 2022 6.6% siendo estos en periodos normales del quehacer institucional. EL crecimiento del 2022 al 2023 corresponde al 80,1% esto puede estar enfocado al proceso de elaboración, diseño, tramite ante el legislativo del nuevo Plan Nacional de Desarrollo.\n",
    "\n",
    "2. La gestión administrativa del DNP, se refleja en los meses que inician las vigencias:\n",
    "\n",
    "- a) Enero y febrero de la vigencia 2020, se concentra la contratación de 291 y 290 respectivamente, el cual en términos porcentuales es 48.2%.\n",
    "- b) Enero vigencia 2021, concentra 681 contratos, el cual en términos porcentuales es de 63.8%.\n",
    "- c) Enero vigencia 2022, concentra 963 contratos, el cual en términos porcentuales es de 84.5%.\n",
    "- d) Para la vigencia 2023 la concentración contractual varia en enero son 636 contratos (31% de concentración), mes de junio 344 contratos (16.8% de concentración) y el mes de julio 296 contratos (14.4% de concentración)\n",
    "\n",
    "Lo anterior refleja acciones de la institución que al inicio de las vigencias prepara su andamiaje y funcionamiento para el cumplimiento de sus funciones."
   ]
  },
  {
   "cell_type": "code",
   "execution_count": 21,
   "metadata": {},
   "outputs": [
    {
     "data": {
      "application/vnd.plotly.v1+json": {
       "config": {
        "plotlyServerURL": "https://plot.ly"
       },
       "data": [
        {
         "alignmentgroup": "True",
         "hovertemplate": "Año=%{x}<br>Número de Contratos=%{y}<extra></extra>",
         "legendgroup": "",
         "marker": {
          "color": "#636efa",
          "pattern": {
           "shape": ""
          }
         },
         "name": "",
         "offsetgroup": "",
         "orientation": "v",
         "showlegend": false,
         "textposition": "auto",
         "type": "bar",
         "x": [
          "2020",
          "2021",
          "2022",
          "2023"
         ],
         "xaxis": "x",
         "y": [
          1018,
          1069,
          1139,
          2051
         ],
         "yaxis": "y"
        }
       ],
       "layout": {
        "barmode": "relative",
        "height": 600,
        "legend": {
         "tracegroupgap": 0
        },
        "plot_bgcolor": "rgba(0, 0, 0, 0)",
        "showlegend": false,
        "template": {
         "data": {
          "bar": [
           {
            "error_x": {
             "color": "#2a3f5f"
            },
            "error_y": {
             "color": "#2a3f5f"
            },
            "marker": {
             "line": {
              "color": "#E5ECF6",
              "width": 0.5
             },
             "pattern": {
              "fillmode": "overlay",
              "size": 10,
              "solidity": 0.2
             }
            },
            "type": "bar"
           }
          ],
          "barpolar": [
           {
            "marker": {
             "line": {
              "color": "#E5ECF6",
              "width": 0.5
             },
             "pattern": {
              "fillmode": "overlay",
              "size": 10,
              "solidity": 0.2
             }
            },
            "type": "barpolar"
           }
          ],
          "carpet": [
           {
            "aaxis": {
             "endlinecolor": "#2a3f5f",
             "gridcolor": "white",
             "linecolor": "white",
             "minorgridcolor": "white",
             "startlinecolor": "#2a3f5f"
            },
            "baxis": {
             "endlinecolor": "#2a3f5f",
             "gridcolor": "white",
             "linecolor": "white",
             "minorgridcolor": "white",
             "startlinecolor": "#2a3f5f"
            },
            "type": "carpet"
           }
          ],
          "choropleth": [
           {
            "colorbar": {
             "outlinewidth": 0,
             "ticks": ""
            },
            "type": "choropleth"
           }
          ],
          "contour": [
           {
            "colorbar": {
             "outlinewidth": 0,
             "ticks": ""
            },
            "colorscale": [
             [
              0,
              "#0d0887"
             ],
             [
              0.1111111111111111,
              "#46039f"
             ],
             [
              0.2222222222222222,
              "#7201a8"
             ],
             [
              0.3333333333333333,
              "#9c179e"
             ],
             [
              0.4444444444444444,
              "#bd3786"
             ],
             [
              0.5555555555555556,
              "#d8576b"
             ],
             [
              0.6666666666666666,
              "#ed7953"
             ],
             [
              0.7777777777777778,
              "#fb9f3a"
             ],
             [
              0.8888888888888888,
              "#fdca26"
             ],
             [
              1,
              "#f0f921"
             ]
            ],
            "type": "contour"
           }
          ],
          "contourcarpet": [
           {
            "colorbar": {
             "outlinewidth": 0,
             "ticks": ""
            },
            "type": "contourcarpet"
           }
          ],
          "heatmap": [
           {
            "colorbar": {
             "outlinewidth": 0,
             "ticks": ""
            },
            "colorscale": [
             [
              0,
              "#0d0887"
             ],
             [
              0.1111111111111111,
              "#46039f"
             ],
             [
              0.2222222222222222,
              "#7201a8"
             ],
             [
              0.3333333333333333,
              "#9c179e"
             ],
             [
              0.4444444444444444,
              "#bd3786"
             ],
             [
              0.5555555555555556,
              "#d8576b"
             ],
             [
              0.6666666666666666,
              "#ed7953"
             ],
             [
              0.7777777777777778,
              "#fb9f3a"
             ],
             [
              0.8888888888888888,
              "#fdca26"
             ],
             [
              1,
              "#f0f921"
             ]
            ],
            "type": "heatmap"
           }
          ],
          "heatmapgl": [
           {
            "colorbar": {
             "outlinewidth": 0,
             "ticks": ""
            },
            "colorscale": [
             [
              0,
              "#0d0887"
             ],
             [
              0.1111111111111111,
              "#46039f"
             ],
             [
              0.2222222222222222,
              "#7201a8"
             ],
             [
              0.3333333333333333,
              "#9c179e"
             ],
             [
              0.4444444444444444,
              "#bd3786"
             ],
             [
              0.5555555555555556,
              "#d8576b"
             ],
             [
              0.6666666666666666,
              "#ed7953"
             ],
             [
              0.7777777777777778,
              "#fb9f3a"
             ],
             [
              0.8888888888888888,
              "#fdca26"
             ],
             [
              1,
              "#f0f921"
             ]
            ],
            "type": "heatmapgl"
           }
          ],
          "histogram": [
           {
            "marker": {
             "pattern": {
              "fillmode": "overlay",
              "size": 10,
              "solidity": 0.2
             }
            },
            "type": "histogram"
           }
          ],
          "histogram2d": [
           {
            "colorbar": {
             "outlinewidth": 0,
             "ticks": ""
            },
            "colorscale": [
             [
              0,
              "#0d0887"
             ],
             [
              0.1111111111111111,
              "#46039f"
             ],
             [
              0.2222222222222222,
              "#7201a8"
             ],
             [
              0.3333333333333333,
              "#9c179e"
             ],
             [
              0.4444444444444444,
              "#bd3786"
             ],
             [
              0.5555555555555556,
              "#d8576b"
             ],
             [
              0.6666666666666666,
              "#ed7953"
             ],
             [
              0.7777777777777778,
              "#fb9f3a"
             ],
             [
              0.8888888888888888,
              "#fdca26"
             ],
             [
              1,
              "#f0f921"
             ]
            ],
            "type": "histogram2d"
           }
          ],
          "histogram2dcontour": [
           {
            "colorbar": {
             "outlinewidth": 0,
             "ticks": ""
            },
            "colorscale": [
             [
              0,
              "#0d0887"
             ],
             [
              0.1111111111111111,
              "#46039f"
             ],
             [
              0.2222222222222222,
              "#7201a8"
             ],
             [
              0.3333333333333333,
              "#9c179e"
             ],
             [
              0.4444444444444444,
              "#bd3786"
             ],
             [
              0.5555555555555556,
              "#d8576b"
             ],
             [
              0.6666666666666666,
              "#ed7953"
             ],
             [
              0.7777777777777778,
              "#fb9f3a"
             ],
             [
              0.8888888888888888,
              "#fdca26"
             ],
             [
              1,
              "#f0f921"
             ]
            ],
            "type": "histogram2dcontour"
           }
          ],
          "mesh3d": [
           {
            "colorbar": {
             "outlinewidth": 0,
             "ticks": ""
            },
            "type": "mesh3d"
           }
          ],
          "parcoords": [
           {
            "line": {
             "colorbar": {
              "outlinewidth": 0,
              "ticks": ""
             }
            },
            "type": "parcoords"
           }
          ],
          "pie": [
           {
            "automargin": true,
            "type": "pie"
           }
          ],
          "scatter": [
           {
            "fillpattern": {
             "fillmode": "overlay",
             "size": 10,
             "solidity": 0.2
            },
            "type": "scatter"
           }
          ],
          "scatter3d": [
           {
            "line": {
             "colorbar": {
              "outlinewidth": 0,
              "ticks": ""
             }
            },
            "marker": {
             "colorbar": {
              "outlinewidth": 0,
              "ticks": ""
             }
            },
            "type": "scatter3d"
           }
          ],
          "scattercarpet": [
           {
            "marker": {
             "colorbar": {
              "outlinewidth": 0,
              "ticks": ""
             }
            },
            "type": "scattercarpet"
           }
          ],
          "scattergeo": [
           {
            "marker": {
             "colorbar": {
              "outlinewidth": 0,
              "ticks": ""
             }
            },
            "type": "scattergeo"
           }
          ],
          "scattergl": [
           {
            "marker": {
             "colorbar": {
              "outlinewidth": 0,
              "ticks": ""
             }
            },
            "type": "scattergl"
           }
          ],
          "scattermapbox": [
           {
            "marker": {
             "colorbar": {
              "outlinewidth": 0,
              "ticks": ""
             }
            },
            "type": "scattermapbox"
           }
          ],
          "scatterpolar": [
           {
            "marker": {
             "colorbar": {
              "outlinewidth": 0,
              "ticks": ""
             }
            },
            "type": "scatterpolar"
           }
          ],
          "scatterpolargl": [
           {
            "marker": {
             "colorbar": {
              "outlinewidth": 0,
              "ticks": ""
             }
            },
            "type": "scatterpolargl"
           }
          ],
          "scatterternary": [
           {
            "marker": {
             "colorbar": {
              "outlinewidth": 0,
              "ticks": ""
             }
            },
            "type": "scatterternary"
           }
          ],
          "surface": [
           {
            "colorbar": {
             "outlinewidth": 0,
             "ticks": ""
            },
            "colorscale": [
             [
              0,
              "#0d0887"
             ],
             [
              0.1111111111111111,
              "#46039f"
             ],
             [
              0.2222222222222222,
              "#7201a8"
             ],
             [
              0.3333333333333333,
              "#9c179e"
             ],
             [
              0.4444444444444444,
              "#bd3786"
             ],
             [
              0.5555555555555556,
              "#d8576b"
             ],
             [
              0.6666666666666666,
              "#ed7953"
             ],
             [
              0.7777777777777778,
              "#fb9f3a"
             ],
             [
              0.8888888888888888,
              "#fdca26"
             ],
             [
              1,
              "#f0f921"
             ]
            ],
            "type": "surface"
           }
          ],
          "table": [
           {
            "cells": {
             "fill": {
              "color": "#EBF0F8"
             },
             "line": {
              "color": "white"
             }
            },
            "header": {
             "fill": {
              "color": "#C8D4E3"
             },
             "line": {
              "color": "white"
             }
            },
            "type": "table"
           }
          ]
         },
         "layout": {
          "annotationdefaults": {
           "arrowcolor": "#2a3f5f",
           "arrowhead": 0,
           "arrowwidth": 1
          },
          "autotypenumbers": "strict",
          "coloraxis": {
           "colorbar": {
            "outlinewidth": 0,
            "ticks": ""
           }
          },
          "colorscale": {
           "diverging": [
            [
             0,
             "#8e0152"
            ],
            [
             0.1,
             "#c51b7d"
            ],
            [
             0.2,
             "#de77ae"
            ],
            [
             0.3,
             "#f1b6da"
            ],
            [
             0.4,
             "#fde0ef"
            ],
            [
             0.5,
             "#f7f7f7"
            ],
            [
             0.6,
             "#e6f5d0"
            ],
            [
             0.7,
             "#b8e186"
            ],
            [
             0.8,
             "#7fbc41"
            ],
            [
             0.9,
             "#4d9221"
            ],
            [
             1,
             "#276419"
            ]
           ],
           "sequential": [
            [
             0,
             "#0d0887"
            ],
            [
             0.1111111111111111,
             "#46039f"
            ],
            [
             0.2222222222222222,
             "#7201a8"
            ],
            [
             0.3333333333333333,
             "#9c179e"
            ],
            [
             0.4444444444444444,
             "#bd3786"
            ],
            [
             0.5555555555555556,
             "#d8576b"
            ],
            [
             0.6666666666666666,
             "#ed7953"
            ],
            [
             0.7777777777777778,
             "#fb9f3a"
            ],
            [
             0.8888888888888888,
             "#fdca26"
            ],
            [
             1,
             "#f0f921"
            ]
           ],
           "sequentialminus": [
            [
             0,
             "#0d0887"
            ],
            [
             0.1111111111111111,
             "#46039f"
            ],
            [
             0.2222222222222222,
             "#7201a8"
            ],
            [
             0.3333333333333333,
             "#9c179e"
            ],
            [
             0.4444444444444444,
             "#bd3786"
            ],
            [
             0.5555555555555556,
             "#d8576b"
            ],
            [
             0.6666666666666666,
             "#ed7953"
            ],
            [
             0.7777777777777778,
             "#fb9f3a"
            ],
            [
             0.8888888888888888,
             "#fdca26"
            ],
            [
             1,
             "#f0f921"
            ]
           ]
          },
          "colorway": [
           "#636efa",
           "#EF553B",
           "#00cc96",
           "#ab63fa",
           "#FFA15A",
           "#19d3f3",
           "#FF6692",
           "#B6E880",
           "#FF97FF",
           "#FECB52"
          ],
          "font": {
           "color": "#2a3f5f"
          },
          "geo": {
           "bgcolor": "white",
           "lakecolor": "white",
           "landcolor": "#E5ECF6",
           "showlakes": true,
           "showland": true,
           "subunitcolor": "white"
          },
          "hoverlabel": {
           "align": "left"
          },
          "hovermode": "closest",
          "mapbox": {
           "style": "light"
          },
          "paper_bgcolor": "white",
          "plot_bgcolor": "#E5ECF6",
          "polar": {
           "angularaxis": {
            "gridcolor": "white",
            "linecolor": "white",
            "ticks": ""
           },
           "bgcolor": "#E5ECF6",
           "radialaxis": {
            "gridcolor": "white",
            "linecolor": "white",
            "ticks": ""
           }
          },
          "scene": {
           "xaxis": {
            "backgroundcolor": "#E5ECF6",
            "gridcolor": "white",
            "gridwidth": 2,
            "linecolor": "white",
            "showbackground": true,
            "ticks": "",
            "zerolinecolor": "white"
           },
           "yaxis": {
            "backgroundcolor": "#E5ECF6",
            "gridcolor": "white",
            "gridwidth": 2,
            "linecolor": "white",
            "showbackground": true,
            "ticks": "",
            "zerolinecolor": "white"
           },
           "zaxis": {
            "backgroundcolor": "#E5ECF6",
            "gridcolor": "white",
            "gridwidth": 2,
            "linecolor": "white",
            "showbackground": true,
            "ticks": "",
            "zerolinecolor": "white"
           }
          },
          "shapedefaults": {
           "line": {
            "color": "#2a3f5f"
           }
          },
          "ternary": {
           "aaxis": {
            "gridcolor": "white",
            "linecolor": "white",
            "ticks": ""
           },
           "baxis": {
            "gridcolor": "white",
            "linecolor": "white",
            "ticks": ""
           },
           "bgcolor": "#E5ECF6",
           "caxis": {
            "gridcolor": "white",
            "linecolor": "white",
            "ticks": ""
           }
          },
          "title": {
           "x": 0.05
          },
          "xaxis": {
           "automargin": true,
           "gridcolor": "white",
           "linecolor": "white",
           "ticks": "",
           "title": {
            "standoff": 15
           },
           "zerolinecolor": "white",
           "zerolinewidth": 2
          },
          "yaxis": {
           "automargin": true,
           "gridcolor": "white",
           "linecolor": "white",
           "ticks": "",
           "title": {
            "standoff": 15
           },
           "zerolinecolor": "white",
           "zerolinewidth": 2
          }
         }
        },
        "title": {
         "text": "Número de Contratos por Año"
        },
        "width": 1000,
        "xaxis": {
         "anchor": "y",
         "domain": [
          0,
          1
         ],
         "tickangle": 0,
         "title": {
          "text": "Año"
         }
        },
        "yaxis": {
         "anchor": "x",
         "domain": [
          0,
          1
         ],
         "title": {
          "text": "Número de Contratos"
         }
        }
       }
      }
     },
     "metadata": {},
     "output_type": "display_data"
    },
    {
     "data": {
      "application/vnd.plotly.v1+json": {
       "config": {
        "plotlyServerURL": "https://plot.ly"
       },
       "data": [
        {
         "alignmentgroup": "True",
         "hovertemplate": "Periodo=%{x}<br>Número de Contratos=%{y}<extra></extra>",
         "legendgroup": "",
         "marker": {
          "color": "#636efa",
          "pattern": {
           "shape": ""
          }
         },
         "name": "",
         "offsetgroup": "",
         "orientation": "v",
         "showlegend": false,
         "textposition": "auto",
         "type": "bar",
         "x": [
          "2020-01",
          "2020-02",
          "2020-03",
          "2020-04",
          "2020-05",
          "2020-06",
          "2020-07",
          "2020-08",
          "2020-09",
          "2020-10",
          "2020-11",
          "2020-12",
          "2021-01",
          "2021-02",
          "2021-03",
          "2021-04",
          "2021-05",
          "2021-06",
          "2021-07",
          "2021-08",
          "2021-09",
          "2021-10",
          "2021-11",
          "2021-12",
          "2022-01",
          "2022-02",
          "2022-03",
          "2022-04",
          "2022-05",
          "2022-06",
          "2022-07",
          "2022-08",
          "2022-09",
          "2022-10",
          "2022-11",
          "2022-12",
          "2023-01",
          "2023-02",
          "2023-03",
          "2023-04",
          "2023-05",
          "2023-06",
          "2023-07",
          "2023-08",
          "2023-09",
          "2023-10",
          "2023-11"
         ],
         "xaxis": "x",
         "y": [
          291,
          290,
          65,
          43,
          41,
          49,
          43,
          41,
          55,
          38,
          29,
          33,
          681,
          138,
          35,
          17,
          18,
          21,
          23,
          22,
          36,
          23,
          36,
          19,
          963,
          22,
          10,
          3,
          10,
          9,
          16,
          14,
          10,
          18,
          31,
          33,
          636,
          246,
          46,
          15,
          344,
          296,
          206,
          84,
          79,
          67,
          32
         ],
         "yaxis": "y"
        }
       ],
       "layout": {
        "barmode": "relative",
        "height": 600,
        "legend": {
         "tracegroupgap": 0
        },
        "plot_bgcolor": "rgba(0, 0, 0, 0)",
        "showlegend": false,
        "template": {
         "data": {
          "bar": [
           {
            "error_x": {
             "color": "#2a3f5f"
            },
            "error_y": {
             "color": "#2a3f5f"
            },
            "marker": {
             "line": {
              "color": "#E5ECF6",
              "width": 0.5
             },
             "pattern": {
              "fillmode": "overlay",
              "size": 10,
              "solidity": 0.2
             }
            },
            "type": "bar"
           }
          ],
          "barpolar": [
           {
            "marker": {
             "line": {
              "color": "#E5ECF6",
              "width": 0.5
             },
             "pattern": {
              "fillmode": "overlay",
              "size": 10,
              "solidity": 0.2
             }
            },
            "type": "barpolar"
           }
          ],
          "carpet": [
           {
            "aaxis": {
             "endlinecolor": "#2a3f5f",
             "gridcolor": "white",
             "linecolor": "white",
             "minorgridcolor": "white",
             "startlinecolor": "#2a3f5f"
            },
            "baxis": {
             "endlinecolor": "#2a3f5f",
             "gridcolor": "white",
             "linecolor": "white",
             "minorgridcolor": "white",
             "startlinecolor": "#2a3f5f"
            },
            "type": "carpet"
           }
          ],
          "choropleth": [
           {
            "colorbar": {
             "outlinewidth": 0,
             "ticks": ""
            },
            "type": "choropleth"
           }
          ],
          "contour": [
           {
            "colorbar": {
             "outlinewidth": 0,
             "ticks": ""
            },
            "colorscale": [
             [
              0,
              "#0d0887"
             ],
             [
              0.1111111111111111,
              "#46039f"
             ],
             [
              0.2222222222222222,
              "#7201a8"
             ],
             [
              0.3333333333333333,
              "#9c179e"
             ],
             [
              0.4444444444444444,
              "#bd3786"
             ],
             [
              0.5555555555555556,
              "#d8576b"
             ],
             [
              0.6666666666666666,
              "#ed7953"
             ],
             [
              0.7777777777777778,
              "#fb9f3a"
             ],
             [
              0.8888888888888888,
              "#fdca26"
             ],
             [
              1,
              "#f0f921"
             ]
            ],
            "type": "contour"
           }
          ],
          "contourcarpet": [
           {
            "colorbar": {
             "outlinewidth": 0,
             "ticks": ""
            },
            "type": "contourcarpet"
           }
          ],
          "heatmap": [
           {
            "colorbar": {
             "outlinewidth": 0,
             "ticks": ""
            },
            "colorscale": [
             [
              0,
              "#0d0887"
             ],
             [
              0.1111111111111111,
              "#46039f"
             ],
             [
              0.2222222222222222,
              "#7201a8"
             ],
             [
              0.3333333333333333,
              "#9c179e"
             ],
             [
              0.4444444444444444,
              "#bd3786"
             ],
             [
              0.5555555555555556,
              "#d8576b"
             ],
             [
              0.6666666666666666,
              "#ed7953"
             ],
             [
              0.7777777777777778,
              "#fb9f3a"
             ],
             [
              0.8888888888888888,
              "#fdca26"
             ],
             [
              1,
              "#f0f921"
             ]
            ],
            "type": "heatmap"
           }
          ],
          "heatmapgl": [
           {
            "colorbar": {
             "outlinewidth": 0,
             "ticks": ""
            },
            "colorscale": [
             [
              0,
              "#0d0887"
             ],
             [
              0.1111111111111111,
              "#46039f"
             ],
             [
              0.2222222222222222,
              "#7201a8"
             ],
             [
              0.3333333333333333,
              "#9c179e"
             ],
             [
              0.4444444444444444,
              "#bd3786"
             ],
             [
              0.5555555555555556,
              "#d8576b"
             ],
             [
              0.6666666666666666,
              "#ed7953"
             ],
             [
              0.7777777777777778,
              "#fb9f3a"
             ],
             [
              0.8888888888888888,
              "#fdca26"
             ],
             [
              1,
              "#f0f921"
             ]
            ],
            "type": "heatmapgl"
           }
          ],
          "histogram": [
           {
            "marker": {
             "pattern": {
              "fillmode": "overlay",
              "size": 10,
              "solidity": 0.2
             }
            },
            "type": "histogram"
           }
          ],
          "histogram2d": [
           {
            "colorbar": {
             "outlinewidth": 0,
             "ticks": ""
            },
            "colorscale": [
             [
              0,
              "#0d0887"
             ],
             [
              0.1111111111111111,
              "#46039f"
             ],
             [
              0.2222222222222222,
              "#7201a8"
             ],
             [
              0.3333333333333333,
              "#9c179e"
             ],
             [
              0.4444444444444444,
              "#bd3786"
             ],
             [
              0.5555555555555556,
              "#d8576b"
             ],
             [
              0.6666666666666666,
              "#ed7953"
             ],
             [
              0.7777777777777778,
              "#fb9f3a"
             ],
             [
              0.8888888888888888,
              "#fdca26"
             ],
             [
              1,
              "#f0f921"
             ]
            ],
            "type": "histogram2d"
           }
          ],
          "histogram2dcontour": [
           {
            "colorbar": {
             "outlinewidth": 0,
             "ticks": ""
            },
            "colorscale": [
             [
              0,
              "#0d0887"
             ],
             [
              0.1111111111111111,
              "#46039f"
             ],
             [
              0.2222222222222222,
              "#7201a8"
             ],
             [
              0.3333333333333333,
              "#9c179e"
             ],
             [
              0.4444444444444444,
              "#bd3786"
             ],
             [
              0.5555555555555556,
              "#d8576b"
             ],
             [
              0.6666666666666666,
              "#ed7953"
             ],
             [
              0.7777777777777778,
              "#fb9f3a"
             ],
             [
              0.8888888888888888,
              "#fdca26"
             ],
             [
              1,
              "#f0f921"
             ]
            ],
            "type": "histogram2dcontour"
           }
          ],
          "mesh3d": [
           {
            "colorbar": {
             "outlinewidth": 0,
             "ticks": ""
            },
            "type": "mesh3d"
           }
          ],
          "parcoords": [
           {
            "line": {
             "colorbar": {
              "outlinewidth": 0,
              "ticks": ""
             }
            },
            "type": "parcoords"
           }
          ],
          "pie": [
           {
            "automargin": true,
            "type": "pie"
           }
          ],
          "scatter": [
           {
            "fillpattern": {
             "fillmode": "overlay",
             "size": 10,
             "solidity": 0.2
            },
            "type": "scatter"
           }
          ],
          "scatter3d": [
           {
            "line": {
             "colorbar": {
              "outlinewidth": 0,
              "ticks": ""
             }
            },
            "marker": {
             "colorbar": {
              "outlinewidth": 0,
              "ticks": ""
             }
            },
            "type": "scatter3d"
           }
          ],
          "scattercarpet": [
           {
            "marker": {
             "colorbar": {
              "outlinewidth": 0,
              "ticks": ""
             }
            },
            "type": "scattercarpet"
           }
          ],
          "scattergeo": [
           {
            "marker": {
             "colorbar": {
              "outlinewidth": 0,
              "ticks": ""
             }
            },
            "type": "scattergeo"
           }
          ],
          "scattergl": [
           {
            "marker": {
             "colorbar": {
              "outlinewidth": 0,
              "ticks": ""
             }
            },
            "type": "scattergl"
           }
          ],
          "scattermapbox": [
           {
            "marker": {
             "colorbar": {
              "outlinewidth": 0,
              "ticks": ""
             }
            },
            "type": "scattermapbox"
           }
          ],
          "scatterpolar": [
           {
            "marker": {
             "colorbar": {
              "outlinewidth": 0,
              "ticks": ""
             }
            },
            "type": "scatterpolar"
           }
          ],
          "scatterpolargl": [
           {
            "marker": {
             "colorbar": {
              "outlinewidth": 0,
              "ticks": ""
             }
            },
            "type": "scatterpolargl"
           }
          ],
          "scatterternary": [
           {
            "marker": {
             "colorbar": {
              "outlinewidth": 0,
              "ticks": ""
             }
            },
            "type": "scatterternary"
           }
          ],
          "surface": [
           {
            "colorbar": {
             "outlinewidth": 0,
             "ticks": ""
            },
            "colorscale": [
             [
              0,
              "#0d0887"
             ],
             [
              0.1111111111111111,
              "#46039f"
             ],
             [
              0.2222222222222222,
              "#7201a8"
             ],
             [
              0.3333333333333333,
              "#9c179e"
             ],
             [
              0.4444444444444444,
              "#bd3786"
             ],
             [
              0.5555555555555556,
              "#d8576b"
             ],
             [
              0.6666666666666666,
              "#ed7953"
             ],
             [
              0.7777777777777778,
              "#fb9f3a"
             ],
             [
              0.8888888888888888,
              "#fdca26"
             ],
             [
              1,
              "#f0f921"
             ]
            ],
            "type": "surface"
           }
          ],
          "table": [
           {
            "cells": {
             "fill": {
              "color": "#EBF0F8"
             },
             "line": {
              "color": "white"
             }
            },
            "header": {
             "fill": {
              "color": "#C8D4E3"
             },
             "line": {
              "color": "white"
             }
            },
            "type": "table"
           }
          ]
         },
         "layout": {
          "annotationdefaults": {
           "arrowcolor": "#2a3f5f",
           "arrowhead": 0,
           "arrowwidth": 1
          },
          "autotypenumbers": "strict",
          "coloraxis": {
           "colorbar": {
            "outlinewidth": 0,
            "ticks": ""
           }
          },
          "colorscale": {
           "diverging": [
            [
             0,
             "#8e0152"
            ],
            [
             0.1,
             "#c51b7d"
            ],
            [
             0.2,
             "#de77ae"
            ],
            [
             0.3,
             "#f1b6da"
            ],
            [
             0.4,
             "#fde0ef"
            ],
            [
             0.5,
             "#f7f7f7"
            ],
            [
             0.6,
             "#e6f5d0"
            ],
            [
             0.7,
             "#b8e186"
            ],
            [
             0.8,
             "#7fbc41"
            ],
            [
             0.9,
             "#4d9221"
            ],
            [
             1,
             "#276419"
            ]
           ],
           "sequential": [
            [
             0,
             "#0d0887"
            ],
            [
             0.1111111111111111,
             "#46039f"
            ],
            [
             0.2222222222222222,
             "#7201a8"
            ],
            [
             0.3333333333333333,
             "#9c179e"
            ],
            [
             0.4444444444444444,
             "#bd3786"
            ],
            [
             0.5555555555555556,
             "#d8576b"
            ],
            [
             0.6666666666666666,
             "#ed7953"
            ],
            [
             0.7777777777777778,
             "#fb9f3a"
            ],
            [
             0.8888888888888888,
             "#fdca26"
            ],
            [
             1,
             "#f0f921"
            ]
           ],
           "sequentialminus": [
            [
             0,
             "#0d0887"
            ],
            [
             0.1111111111111111,
             "#46039f"
            ],
            [
             0.2222222222222222,
             "#7201a8"
            ],
            [
             0.3333333333333333,
             "#9c179e"
            ],
            [
             0.4444444444444444,
             "#bd3786"
            ],
            [
             0.5555555555555556,
             "#d8576b"
            ],
            [
             0.6666666666666666,
             "#ed7953"
            ],
            [
             0.7777777777777778,
             "#fb9f3a"
            ],
            [
             0.8888888888888888,
             "#fdca26"
            ],
            [
             1,
             "#f0f921"
            ]
           ]
          },
          "colorway": [
           "#636efa",
           "#EF553B",
           "#00cc96",
           "#ab63fa",
           "#FFA15A",
           "#19d3f3",
           "#FF6692",
           "#B6E880",
           "#FF97FF",
           "#FECB52"
          ],
          "font": {
           "color": "#2a3f5f"
          },
          "geo": {
           "bgcolor": "white",
           "lakecolor": "white",
           "landcolor": "#E5ECF6",
           "showlakes": true,
           "showland": true,
           "subunitcolor": "white"
          },
          "hoverlabel": {
           "align": "left"
          },
          "hovermode": "closest",
          "mapbox": {
           "style": "light"
          },
          "paper_bgcolor": "white",
          "plot_bgcolor": "#E5ECF6",
          "polar": {
           "angularaxis": {
            "gridcolor": "white",
            "linecolor": "white",
            "ticks": ""
           },
           "bgcolor": "#E5ECF6",
           "radialaxis": {
            "gridcolor": "white",
            "linecolor": "white",
            "ticks": ""
           }
          },
          "scene": {
           "xaxis": {
            "backgroundcolor": "#E5ECF6",
            "gridcolor": "white",
            "gridwidth": 2,
            "linecolor": "white",
            "showbackground": true,
            "ticks": "",
            "zerolinecolor": "white"
           },
           "yaxis": {
            "backgroundcolor": "#E5ECF6",
            "gridcolor": "white",
            "gridwidth": 2,
            "linecolor": "white",
            "showbackground": true,
            "ticks": "",
            "zerolinecolor": "white"
           },
           "zaxis": {
            "backgroundcolor": "#E5ECF6",
            "gridcolor": "white",
            "gridwidth": 2,
            "linecolor": "white",
            "showbackground": true,
            "ticks": "",
            "zerolinecolor": "white"
           }
          },
          "shapedefaults": {
           "line": {
            "color": "#2a3f5f"
           }
          },
          "ternary": {
           "aaxis": {
            "gridcolor": "white",
            "linecolor": "white",
            "ticks": ""
           },
           "baxis": {
            "gridcolor": "white",
            "linecolor": "white",
            "ticks": ""
           },
           "bgcolor": "#E5ECF6",
           "caxis": {
            "gridcolor": "white",
            "linecolor": "white",
            "ticks": ""
           }
          },
          "title": {
           "x": 0.05
          },
          "xaxis": {
           "automargin": true,
           "gridcolor": "white",
           "linecolor": "white",
           "ticks": "",
           "title": {
            "standoff": 15
           },
           "zerolinecolor": "white",
           "zerolinewidth": 2
          },
          "yaxis": {
           "automargin": true,
           "gridcolor": "white",
           "linecolor": "white",
           "ticks": "",
           "title": {
            "standoff": 15
           },
           "zerolinecolor": "white",
           "zerolinewidth": 2
          }
         }
        },
        "title": {
         "text": "Número de Contratos por Periodo"
        },
        "width": 1000,
        "xaxis": {
         "anchor": "y",
         "domain": [
          0,
          1
         ],
         "tickangle": 0,
         "title": {
          "text": "Periodo"
         }
        },
        "yaxis": {
         "anchor": "x",
         "domain": [
          0,
          1
         ],
         "title": {
          "text": "Número de Contratos"
         }
        }
       }
      }
     },
     "metadata": {},
     "output_type": "display_data"
    }
   ],
   "source": [
    "### Grafica 1\n",
    "\n",
    "# Calcular el conteo de contratos por año y ordenar\n",
    "conteo_contratos_a = DF_contratos_v1['fecha_de_firma_ano'].value_counts().reset_index()\n",
    "conteo_contratos_a = conteo_contratos_a.sort_values('fecha_de_firma_ano')\n",
    "\n",
    "# Crear gráfica\n",
    "fig = px.bar(\n",
    "    conteo_contratos_a,\n",
    "    x='fecha_de_firma_ano',\n",
    "    y='count',\n",
    "    title='Número de Contratos por Año',\n",
    "    labels={'fecha_de_firma_ano': 'Año', 'count': 'Número de Contratos'}\n",
    ")\n",
    "\n",
    "# Diseño\n",
    "fig.update_layout(\n",
    "    xaxis_title='Año',\n",
    "    yaxis_title='Número de Contratos',\n",
    "    title='Número de Contratos por Año',\n",
    "    plot_bgcolor='rgba(0, 0, 0, 0)',\n",
    "    xaxis_tickangle = 0,\n",
    "    showlegend = False,\n",
    "    height = 600,\n",
    "    width = 1000\n",
    ")\n",
    "\n",
    "# Mostrar gráfica\n",
    "fig.show()\n",
    "\n",
    "# Guardar la gráfica como imagen\n",
    "fig.write_image(\"graficas/grafica1.png\")\n",
    "\n",
    "### Grafica 2\n",
    "\n",
    "# Calcular el conteo de contratos por año y ordenar\n",
    "conteo_contratos_p = DF_contratos_v1['fecha_de_firma_periodo'].value_counts().reset_index()\n",
    "conteo_contratos_p = conteo_contratos_p.sort_values('fecha_de_firma_periodo')\n",
    "\n",
    "# Crear gráfica\n",
    "fig = px.bar(\n",
    "    conteo_contratos_p,\n",
    "    x='fecha_de_firma_periodo',\n",
    "    y='count',\n",
    "    title='Número de Contratos por Periodo',\n",
    "    labels={'fecha_de_firma_periodo': 'Periodo', 'count': 'Número de Contratos'}\n",
    ")\n",
    "\n",
    "# Diseño\n",
    "fig.update_layout(\n",
    "    xaxis_title='Periodo',\n",
    "    yaxis_title='Número de Contratos',\n",
    "    title='Número de Contratos por Periodo',\n",
    "    plot_bgcolor='rgba(0, 0, 0, 0)',\n",
    "    xaxis_tickangle = 0,\n",
    "    showlegend = False,\n",
    "    height = 600,\n",
    "    width = 1000\n",
    ")\n",
    "\n",
    "# Mostrar gráfica\n",
    "fig.show()\n",
    "\n",
    "# Guardar la gráfica como imagen\n",
    "fig.write_image(\"graficas/grafica2.png\")"
   ]
  },
  {
   "cell_type": "markdown",
   "metadata": {},
   "source": [
    "![Gráfica](graficas/grafica1.png)"
   ]
  },
  {
   "cell_type": "markdown",
   "metadata": {},
   "source": [
    "![Gráfica](graficas/grafica2.png)"
   ]
  },
  {
   "cell_type": "markdown",
   "metadata": {},
   "source": [
    "### Análisis por número de contratos por estado:"
   ]
  },
  {
   "cell_type": "markdown",
   "metadata": {},
   "source": [
    "El estado de los contratos permite evidenciar la curva y acción normal que tuvieron los contratos en las vigencias para la efectiva entrega de bienes y servicios. En este sentido se puede identificar lo siguiente:\n",
    "\n",
    "1) Para la vigencia 2020, 541 contratos activos representando el 53% de la contratación anual, esto puede evidenciar la acción institucional enfocado en prestación de servicios profesionales, contratos básicos de seguridad, cafetería, entre otros. Sin embargo, el estar activos puede denotar falta de gestión en que son contratos de vigencias anteriores y que no se han liquidado o efectuado su debido cierre.\n",
    "\n",
    "2) Para la vigencia 2021 se concentra en gran medida en contratos de ejecución siendo estos 589 representando el 55% de la acción contractual de esa vigencia. Adicional se observa una mayor acción administrativa ya que los activos pasan hacer solo 3 en esta vigencia y también se refuerza con los contratos cerrados para la vigencia en 162 contratos.\n",
    "\n",
    "3) Para la vigencia 2022, tiene una tendencia similar a la vigencia 2021, dado que la gestión administrativa mantiene enfocado en contratos de ejecución por 524 contratos representando el 46%, y en aumento los contratos en cierre siendo estos 295.\n",
    "\n",
    "4) Para la vigencia 2023 a la fecha, se distingue 1210 contratos en ejecución siendo esto el 59% y modificados 700 siendo el 34.1%, esto refleja la acción institucional que viene empleando el DNP al cumplimiento de su mayor propósito de esta vigencia en la puesta en marcha del PND."
   ]
  },
  {
   "cell_type": "code",
   "execution_count": 22,
   "metadata": {},
   "outputs": [
    {
     "data": {
      "text/html": [
       "<div>\n",
       "<style scoped>\n",
       "    .dataframe tbody tr th:only-of-type {\n",
       "        vertical-align: middle;\n",
       "    }\n",
       "\n",
       "    .dataframe tbody tr th {\n",
       "        vertical-align: top;\n",
       "    }\n",
       "\n",
       "    .dataframe thead th {\n",
       "        text-align: right;\n",
       "    }\n",
       "</style>\n",
       "<table border=\"1\" class=\"dataframe\">\n",
       "  <thead>\n",
       "    <tr style=\"text-align: right;\">\n",
       "      <th></th>\n",
       "      <th>estado_contrato</th>\n",
       "      <th>valor_del_contrato</th>\n",
       "      <th>numero_de_contratos</th>\n",
       "      <th>porcentaje</th>\n",
       "    </tr>\n",
       "  </thead>\n",
       "  <tbody>\n",
       "    <tr>\n",
       "      <th>0</th>\n",
       "      <td>Modificado</td>\n",
       "      <td>3035509029978</td>\n",
       "      <td>1060</td>\n",
       "      <td>20.09%</td>\n",
       "    </tr>\n",
       "    <tr>\n",
       "      <th>1</th>\n",
       "      <td>En ejecución</td>\n",
       "      <td>222877921997</td>\n",
       "      <td>2519</td>\n",
       "      <td>47.74%</td>\n",
       "    </tr>\n",
       "    <tr>\n",
       "      <th>2</th>\n",
       "      <td>terminado</td>\n",
       "      <td>100376752795</td>\n",
       "      <td>309</td>\n",
       "      <td>5.86%</td>\n",
       "    </tr>\n",
       "    <tr>\n",
       "      <th>3</th>\n",
       "      <td>Activo</td>\n",
       "      <td>63688609565</td>\n",
       "      <td>565</td>\n",
       "      <td>10.71%</td>\n",
       "    </tr>\n",
       "    <tr>\n",
       "      <th>4</th>\n",
       "      <td>Cerrado</td>\n",
       "      <td>48280539851</td>\n",
       "      <td>486</td>\n",
       "      <td>9.21%</td>\n",
       "    </tr>\n",
       "    <tr>\n",
       "      <th>5</th>\n",
       "      <td>cedido</td>\n",
       "      <td>26037440120</td>\n",
       "      <td>336</td>\n",
       "      <td>6.37%</td>\n",
       "    </tr>\n",
       "    <tr>\n",
       "      <th>6</th>\n",
       "      <td>Suspendido</td>\n",
       "      <td>98311946</td>\n",
       "      <td>2</td>\n",
       "      <td>0.04%</td>\n",
       "    </tr>\n",
       "  </tbody>\n",
       "</table>\n",
       "</div>"
      ],
      "text/plain": [
       "  estado_contrato  valor_del_contrato  numero_de_contratos porcentaje\n",
       "0      Modificado       3035509029978                 1060     20.09%\n",
       "1    En ejecución        222877921997                 2519     47.74%\n",
       "2       terminado        100376752795                  309      5.86%\n",
       "3          Activo         63688609565                  565     10.71%\n",
       "4         Cerrado         48280539851                  486      9.21%\n",
       "5          cedido         26037440120                  336      6.37%\n",
       "6      Suspendido            98311946                    2      0.04%"
      ]
     },
     "execution_count": 22,
     "metadata": {},
     "output_type": "execute_result"
    }
   ],
   "source": [
    "# Agrupar y calcular la suma y la cantidad\n",
    "DF_estado_contrato = DF_contratos_v1.groupby('estado_contrato').agg(\n",
    "    valor_del_contrato=('valor_del_contrato', 'sum'),\n",
    "    numero_de_contratos=('estado_contrato', 'size')\n",
    ")\n",
    "\n",
    "# Calcular el porcentaje\n",
    "DF_estado_contrato['porcentaje'] = (DF_estado_contrato['numero_de_contratos'] / \n",
    "                                           len(DF_contratos_v1) * 100).round(2).astype(str) + '%'\n",
    "\n",
    "# Ordenar y resetear el índice\n",
    "DF_estado_contrato = DF_estado_contrato.sort_values(by='valor_del_contrato', ascending=False).reset_index()\n",
    "\n",
    "# Mostrar base\n",
    "DF_estado_contrato"
   ]
  },
  {
   "cell_type": "code",
   "execution_count": 23,
   "metadata": {},
   "outputs": [
    {
     "data": {
      "application/vnd.plotly.v1+json": {
       "config": {
        "plotlyServerURL": "https://plot.ly"
       },
       "data": [
        {
         "alignmentgroup": "True",
         "hovertemplate": "variable=Activo<br>Año=%{x}<br>value=%{y}<extra></extra>",
         "legendgroup": "Activo",
         "marker": {
          "color": "#636efa",
          "pattern": {
           "shape": ""
          }
         },
         "name": "Activo",
         "offsetgroup": "Activo",
         "orientation": "v",
         "showlegend": true,
         "textposition": "auto",
         "type": "bar",
         "x": [
          "2020",
          "2021",
          "2022",
          "2023"
         ],
         "xaxis": "x",
         "y": [
          541,
          3,
          1,
          20
         ],
         "yaxis": "y"
        },
        {
         "alignmentgroup": "True",
         "hovertemplate": "variable=Cerrado<br>Año=%{x}<br>value=%{y}<extra></extra>",
         "legendgroup": "Cerrado",
         "marker": {
          "color": "#EF553B",
          "pattern": {
           "shape": ""
          }
         },
         "name": "Cerrado",
         "offsetgroup": "Cerrado",
         "orientation": "v",
         "showlegend": true,
         "textposition": "auto",
         "type": "bar",
         "x": [
          "2020",
          "2021",
          "2022",
          "2023"
         ],
         "xaxis": "x",
         "y": [
          13,
          162,
          295,
          16
         ],
         "yaxis": "y"
        },
        {
         "alignmentgroup": "True",
         "hovertemplate": "variable=En ejecución<br>Año=%{x}<br>value=%{y}<extra></extra>",
         "legendgroup": "En ejecución",
         "marker": {
          "color": "#00cc96",
          "pattern": {
           "shape": ""
          }
         },
         "name": "En ejecución",
         "offsetgroup": "En ejecución",
         "orientation": "v",
         "showlegend": true,
         "textposition": "auto",
         "type": "bar",
         "x": [
          "2020",
          "2021",
          "2022",
          "2023"
         ],
         "xaxis": "x",
         "y": [
          196,
          589,
          524,
          1210
         ],
         "yaxis": "y"
        },
        {
         "alignmentgroup": "True",
         "hovertemplate": "variable=Modificado<br>Año=%{x}<br>value=%{y}<extra></extra>",
         "legendgroup": "Modificado",
         "marker": {
          "color": "#ab63fa",
          "pattern": {
           "shape": ""
          }
         },
         "name": "Modificado",
         "offsetgroup": "Modificado",
         "orientation": "v",
         "showlegend": true,
         "textposition": "auto",
         "type": "bar",
         "x": [
          "2020",
          "2021",
          "2022",
          "2023"
         ],
         "xaxis": "x",
         "y": [
          104,
          136,
          120,
          700
         ],
         "yaxis": "y"
        },
        {
         "alignmentgroup": "True",
         "hovertemplate": "variable=Suspendido<br>Año=%{x}<br>value=%{y}<extra></extra>",
         "legendgroup": "Suspendido",
         "marker": {
          "color": "#FFA15A",
          "pattern": {
           "shape": ""
          }
         },
         "name": "Suspendido",
         "offsetgroup": "Suspendido",
         "orientation": "v",
         "showlegend": true,
         "textposition": "auto",
         "type": "bar",
         "x": [
          "2020",
          "2021",
          "2022",
          "2023"
         ],
         "xaxis": "x",
         "y": [
          null,
          null,
          null,
          2
         ],
         "yaxis": "y"
        },
        {
         "alignmentgroup": "True",
         "hovertemplate": "variable=cedido<br>Año=%{x}<br>value=%{y}<extra></extra>",
         "legendgroup": "cedido",
         "marker": {
          "color": "#19d3f3",
          "pattern": {
           "shape": ""
          }
         },
         "name": "cedido",
         "offsetgroup": "cedido",
         "orientation": "v",
         "showlegend": true,
         "textposition": "auto",
         "type": "bar",
         "x": [
          "2020",
          "2021",
          "2022",
          "2023"
         ],
         "xaxis": "x",
         "y": [
          61,
          101,
          113,
          61
         ],
         "yaxis": "y"
        },
        {
         "alignmentgroup": "True",
         "hovertemplate": "variable=terminado<br>Año=%{x}<br>value=%{y}<extra></extra>",
         "legendgroup": "terminado",
         "marker": {
          "color": "#FF6692",
          "pattern": {
           "shape": ""
          }
         },
         "name": "terminado",
         "offsetgroup": "terminado",
         "orientation": "v",
         "showlegend": true,
         "textposition": "auto",
         "type": "bar",
         "x": [
          "2020",
          "2021",
          "2022",
          "2023"
         ],
         "xaxis": "x",
         "y": [
          103,
          78,
          86,
          42
         ],
         "yaxis": "y"
        }
       ],
       "layout": {
        "barmode": "relative",
        "height": 600,
        "legend": {
         "title": {
          "text": "variable"
         },
         "tracegroupgap": 0
        },
        "plot_bgcolor": "rgba(0, 0, 0, 0)",
        "showlegend": true,
        "template": {
         "data": {
          "bar": [
           {
            "error_x": {
             "color": "#2a3f5f"
            },
            "error_y": {
             "color": "#2a3f5f"
            },
            "marker": {
             "line": {
              "color": "#E5ECF6",
              "width": 0.5
             },
             "pattern": {
              "fillmode": "overlay",
              "size": 10,
              "solidity": 0.2
             }
            },
            "type": "bar"
           }
          ],
          "barpolar": [
           {
            "marker": {
             "line": {
              "color": "#E5ECF6",
              "width": 0.5
             },
             "pattern": {
              "fillmode": "overlay",
              "size": 10,
              "solidity": 0.2
             }
            },
            "type": "barpolar"
           }
          ],
          "carpet": [
           {
            "aaxis": {
             "endlinecolor": "#2a3f5f",
             "gridcolor": "white",
             "linecolor": "white",
             "minorgridcolor": "white",
             "startlinecolor": "#2a3f5f"
            },
            "baxis": {
             "endlinecolor": "#2a3f5f",
             "gridcolor": "white",
             "linecolor": "white",
             "minorgridcolor": "white",
             "startlinecolor": "#2a3f5f"
            },
            "type": "carpet"
           }
          ],
          "choropleth": [
           {
            "colorbar": {
             "outlinewidth": 0,
             "ticks": ""
            },
            "type": "choropleth"
           }
          ],
          "contour": [
           {
            "colorbar": {
             "outlinewidth": 0,
             "ticks": ""
            },
            "colorscale": [
             [
              0,
              "#0d0887"
             ],
             [
              0.1111111111111111,
              "#46039f"
             ],
             [
              0.2222222222222222,
              "#7201a8"
             ],
             [
              0.3333333333333333,
              "#9c179e"
             ],
             [
              0.4444444444444444,
              "#bd3786"
             ],
             [
              0.5555555555555556,
              "#d8576b"
             ],
             [
              0.6666666666666666,
              "#ed7953"
             ],
             [
              0.7777777777777778,
              "#fb9f3a"
             ],
             [
              0.8888888888888888,
              "#fdca26"
             ],
             [
              1,
              "#f0f921"
             ]
            ],
            "type": "contour"
           }
          ],
          "contourcarpet": [
           {
            "colorbar": {
             "outlinewidth": 0,
             "ticks": ""
            },
            "type": "contourcarpet"
           }
          ],
          "heatmap": [
           {
            "colorbar": {
             "outlinewidth": 0,
             "ticks": ""
            },
            "colorscale": [
             [
              0,
              "#0d0887"
             ],
             [
              0.1111111111111111,
              "#46039f"
             ],
             [
              0.2222222222222222,
              "#7201a8"
             ],
             [
              0.3333333333333333,
              "#9c179e"
             ],
             [
              0.4444444444444444,
              "#bd3786"
             ],
             [
              0.5555555555555556,
              "#d8576b"
             ],
             [
              0.6666666666666666,
              "#ed7953"
             ],
             [
              0.7777777777777778,
              "#fb9f3a"
             ],
             [
              0.8888888888888888,
              "#fdca26"
             ],
             [
              1,
              "#f0f921"
             ]
            ],
            "type": "heatmap"
           }
          ],
          "heatmapgl": [
           {
            "colorbar": {
             "outlinewidth": 0,
             "ticks": ""
            },
            "colorscale": [
             [
              0,
              "#0d0887"
             ],
             [
              0.1111111111111111,
              "#46039f"
             ],
             [
              0.2222222222222222,
              "#7201a8"
             ],
             [
              0.3333333333333333,
              "#9c179e"
             ],
             [
              0.4444444444444444,
              "#bd3786"
             ],
             [
              0.5555555555555556,
              "#d8576b"
             ],
             [
              0.6666666666666666,
              "#ed7953"
             ],
             [
              0.7777777777777778,
              "#fb9f3a"
             ],
             [
              0.8888888888888888,
              "#fdca26"
             ],
             [
              1,
              "#f0f921"
             ]
            ],
            "type": "heatmapgl"
           }
          ],
          "histogram": [
           {
            "marker": {
             "pattern": {
              "fillmode": "overlay",
              "size": 10,
              "solidity": 0.2
             }
            },
            "type": "histogram"
           }
          ],
          "histogram2d": [
           {
            "colorbar": {
             "outlinewidth": 0,
             "ticks": ""
            },
            "colorscale": [
             [
              0,
              "#0d0887"
             ],
             [
              0.1111111111111111,
              "#46039f"
             ],
             [
              0.2222222222222222,
              "#7201a8"
             ],
             [
              0.3333333333333333,
              "#9c179e"
             ],
             [
              0.4444444444444444,
              "#bd3786"
             ],
             [
              0.5555555555555556,
              "#d8576b"
             ],
             [
              0.6666666666666666,
              "#ed7953"
             ],
             [
              0.7777777777777778,
              "#fb9f3a"
             ],
             [
              0.8888888888888888,
              "#fdca26"
             ],
             [
              1,
              "#f0f921"
             ]
            ],
            "type": "histogram2d"
           }
          ],
          "histogram2dcontour": [
           {
            "colorbar": {
             "outlinewidth": 0,
             "ticks": ""
            },
            "colorscale": [
             [
              0,
              "#0d0887"
             ],
             [
              0.1111111111111111,
              "#46039f"
             ],
             [
              0.2222222222222222,
              "#7201a8"
             ],
             [
              0.3333333333333333,
              "#9c179e"
             ],
             [
              0.4444444444444444,
              "#bd3786"
             ],
             [
              0.5555555555555556,
              "#d8576b"
             ],
             [
              0.6666666666666666,
              "#ed7953"
             ],
             [
              0.7777777777777778,
              "#fb9f3a"
             ],
             [
              0.8888888888888888,
              "#fdca26"
             ],
             [
              1,
              "#f0f921"
             ]
            ],
            "type": "histogram2dcontour"
           }
          ],
          "mesh3d": [
           {
            "colorbar": {
             "outlinewidth": 0,
             "ticks": ""
            },
            "type": "mesh3d"
           }
          ],
          "parcoords": [
           {
            "line": {
             "colorbar": {
              "outlinewidth": 0,
              "ticks": ""
             }
            },
            "type": "parcoords"
           }
          ],
          "pie": [
           {
            "automargin": true,
            "type": "pie"
           }
          ],
          "scatter": [
           {
            "fillpattern": {
             "fillmode": "overlay",
             "size": 10,
             "solidity": 0.2
            },
            "type": "scatter"
           }
          ],
          "scatter3d": [
           {
            "line": {
             "colorbar": {
              "outlinewidth": 0,
              "ticks": ""
             }
            },
            "marker": {
             "colorbar": {
              "outlinewidth": 0,
              "ticks": ""
             }
            },
            "type": "scatter3d"
           }
          ],
          "scattercarpet": [
           {
            "marker": {
             "colorbar": {
              "outlinewidth": 0,
              "ticks": ""
             }
            },
            "type": "scattercarpet"
           }
          ],
          "scattergeo": [
           {
            "marker": {
             "colorbar": {
              "outlinewidth": 0,
              "ticks": ""
             }
            },
            "type": "scattergeo"
           }
          ],
          "scattergl": [
           {
            "marker": {
             "colorbar": {
              "outlinewidth": 0,
              "ticks": ""
             }
            },
            "type": "scattergl"
           }
          ],
          "scattermapbox": [
           {
            "marker": {
             "colorbar": {
              "outlinewidth": 0,
              "ticks": ""
             }
            },
            "type": "scattermapbox"
           }
          ],
          "scatterpolar": [
           {
            "marker": {
             "colorbar": {
              "outlinewidth": 0,
              "ticks": ""
             }
            },
            "type": "scatterpolar"
           }
          ],
          "scatterpolargl": [
           {
            "marker": {
             "colorbar": {
              "outlinewidth": 0,
              "ticks": ""
             }
            },
            "type": "scatterpolargl"
           }
          ],
          "scatterternary": [
           {
            "marker": {
             "colorbar": {
              "outlinewidth": 0,
              "ticks": ""
             }
            },
            "type": "scatterternary"
           }
          ],
          "surface": [
           {
            "colorbar": {
             "outlinewidth": 0,
             "ticks": ""
            },
            "colorscale": [
             [
              0,
              "#0d0887"
             ],
             [
              0.1111111111111111,
              "#46039f"
             ],
             [
              0.2222222222222222,
              "#7201a8"
             ],
             [
              0.3333333333333333,
              "#9c179e"
             ],
             [
              0.4444444444444444,
              "#bd3786"
             ],
             [
              0.5555555555555556,
              "#d8576b"
             ],
             [
              0.6666666666666666,
              "#ed7953"
             ],
             [
              0.7777777777777778,
              "#fb9f3a"
             ],
             [
              0.8888888888888888,
              "#fdca26"
             ],
             [
              1,
              "#f0f921"
             ]
            ],
            "type": "surface"
           }
          ],
          "table": [
           {
            "cells": {
             "fill": {
              "color": "#EBF0F8"
             },
             "line": {
              "color": "white"
             }
            },
            "header": {
             "fill": {
              "color": "#C8D4E3"
             },
             "line": {
              "color": "white"
             }
            },
            "type": "table"
           }
          ]
         },
         "layout": {
          "annotationdefaults": {
           "arrowcolor": "#2a3f5f",
           "arrowhead": 0,
           "arrowwidth": 1
          },
          "autotypenumbers": "strict",
          "coloraxis": {
           "colorbar": {
            "outlinewidth": 0,
            "ticks": ""
           }
          },
          "colorscale": {
           "diverging": [
            [
             0,
             "#8e0152"
            ],
            [
             0.1,
             "#c51b7d"
            ],
            [
             0.2,
             "#de77ae"
            ],
            [
             0.3,
             "#f1b6da"
            ],
            [
             0.4,
             "#fde0ef"
            ],
            [
             0.5,
             "#f7f7f7"
            ],
            [
             0.6,
             "#e6f5d0"
            ],
            [
             0.7,
             "#b8e186"
            ],
            [
             0.8,
             "#7fbc41"
            ],
            [
             0.9,
             "#4d9221"
            ],
            [
             1,
             "#276419"
            ]
           ],
           "sequential": [
            [
             0,
             "#0d0887"
            ],
            [
             0.1111111111111111,
             "#46039f"
            ],
            [
             0.2222222222222222,
             "#7201a8"
            ],
            [
             0.3333333333333333,
             "#9c179e"
            ],
            [
             0.4444444444444444,
             "#bd3786"
            ],
            [
             0.5555555555555556,
             "#d8576b"
            ],
            [
             0.6666666666666666,
             "#ed7953"
            ],
            [
             0.7777777777777778,
             "#fb9f3a"
            ],
            [
             0.8888888888888888,
             "#fdca26"
            ],
            [
             1,
             "#f0f921"
            ]
           ],
           "sequentialminus": [
            [
             0,
             "#0d0887"
            ],
            [
             0.1111111111111111,
             "#46039f"
            ],
            [
             0.2222222222222222,
             "#7201a8"
            ],
            [
             0.3333333333333333,
             "#9c179e"
            ],
            [
             0.4444444444444444,
             "#bd3786"
            ],
            [
             0.5555555555555556,
             "#d8576b"
            ],
            [
             0.6666666666666666,
             "#ed7953"
            ],
            [
             0.7777777777777778,
             "#fb9f3a"
            ],
            [
             0.8888888888888888,
             "#fdca26"
            ],
            [
             1,
             "#f0f921"
            ]
           ]
          },
          "colorway": [
           "#636efa",
           "#EF553B",
           "#00cc96",
           "#ab63fa",
           "#FFA15A",
           "#19d3f3",
           "#FF6692",
           "#B6E880",
           "#FF97FF",
           "#FECB52"
          ],
          "font": {
           "color": "#2a3f5f"
          },
          "geo": {
           "bgcolor": "white",
           "lakecolor": "white",
           "landcolor": "#E5ECF6",
           "showlakes": true,
           "showland": true,
           "subunitcolor": "white"
          },
          "hoverlabel": {
           "align": "left"
          },
          "hovermode": "closest",
          "mapbox": {
           "style": "light"
          },
          "paper_bgcolor": "white",
          "plot_bgcolor": "#E5ECF6",
          "polar": {
           "angularaxis": {
            "gridcolor": "white",
            "linecolor": "white",
            "ticks": ""
           },
           "bgcolor": "#E5ECF6",
           "radialaxis": {
            "gridcolor": "white",
            "linecolor": "white",
            "ticks": ""
           }
          },
          "scene": {
           "xaxis": {
            "backgroundcolor": "#E5ECF6",
            "gridcolor": "white",
            "gridwidth": 2,
            "linecolor": "white",
            "showbackground": true,
            "ticks": "",
            "zerolinecolor": "white"
           },
           "yaxis": {
            "backgroundcolor": "#E5ECF6",
            "gridcolor": "white",
            "gridwidth": 2,
            "linecolor": "white",
            "showbackground": true,
            "ticks": "",
            "zerolinecolor": "white"
           },
           "zaxis": {
            "backgroundcolor": "#E5ECF6",
            "gridcolor": "white",
            "gridwidth": 2,
            "linecolor": "white",
            "showbackground": true,
            "ticks": "",
            "zerolinecolor": "white"
           }
          },
          "shapedefaults": {
           "line": {
            "color": "#2a3f5f"
           }
          },
          "ternary": {
           "aaxis": {
            "gridcolor": "white",
            "linecolor": "white",
            "ticks": ""
           },
           "baxis": {
            "gridcolor": "white",
            "linecolor": "white",
            "ticks": ""
           },
           "bgcolor": "#E5ECF6",
           "caxis": {
            "gridcolor": "white",
            "linecolor": "white",
            "ticks": ""
           }
          },
          "title": {
           "x": 0.05
          },
          "xaxis": {
           "automargin": true,
           "gridcolor": "white",
           "linecolor": "white",
           "ticks": "",
           "title": {
            "standoff": 15
           },
           "zerolinecolor": "white",
           "zerolinewidth": 2
          },
          "yaxis": {
           "automargin": true,
           "gridcolor": "white",
           "linecolor": "white",
           "ticks": "",
           "title": {
            "standoff": 15
           },
           "zerolinecolor": "white",
           "zerolinewidth": 2
          }
         }
        },
        "title": {
         "text": "Número de Contratos por Estado y Año"
        },
        "width": 1000,
        "xaxis": {
         "anchor": "y",
         "domain": [
          0,
          1
         ],
         "tickangle": 0,
         "title": {
          "text": "Año"
         }
        },
        "yaxis": {
         "anchor": "x",
         "domain": [
          0,
          1
         ],
         "title": {
          "text": "Número de Contratos"
         }
        }
       }
      }
     },
     "metadata": {},
     "output_type": "display_data"
    }
   ],
   "source": [
    "# Realizar agrupaciones\n",
    "DF_estado_por_año = DF_contratos_v1.groupby(['fecha_de_firma_ano', 'estado_contrato']).size().unstack().reset_index()\n",
    "\n",
    "# Crear gráfico\n",
    "fig = px.bar(\n",
    "    DF_estado_por_año, \n",
    "    x='fecha_de_firma_ano', \n",
    "    y=DF_estado_por_año.columns[1:],\n",
    "    title='Número de Contratos por Estado y Año',\n",
    "    labels={'fecha_de_firma_ano': 'Año', 'DF_estado_por_año.columns': 'Número de Contratos'}\n",
    ")\n",
    "\n",
    "# Diseño\n",
    "fig.update_layout(\n",
    "    xaxis_title='Año',\n",
    "    yaxis_title='Número de Contratos',\n",
    "    title='Número de Contratos por Estado y Año',\n",
    "    plot_bgcolor='rgba(0, 0, 0, 0)',\n",
    "    xaxis_tickangle = 0,\n",
    "    showlegend = True,\n",
    "    height = 600,\n",
    "    width = 1000\n",
    ")\n",
    "\n",
    "# Mostrar el gráfico\n",
    "fig.show()\n",
    "\n",
    "# Guardar la gráfica como imagen\n",
    "fig.write_image(\"graficas/grafica3.png\")\n"
   ]
  },
  {
   "cell_type": "markdown",
   "metadata": {},
   "source": [
    "![Gráfica](graficas/grafica3.png)"
   ]
  },
  {
   "cell_type": "markdown",
   "metadata": {},
   "source": [
    "### Análisis por número de contratos y modalidad de contratación:"
   ]
  },
  {
   "cell_type": "markdown",
   "metadata": {},
   "source": [
    "Este enfoque, reafirma los análisis preliminares y es como se concentra la contratación del DNP y en efecto se puede identificar que es por prestación de servicios sin entrar aún en discriminar año a año el comportamiento el 89.75% de las vigencias 2020, 2021, 2022 y 2023.\n",
    "\n",
    "1) Para la vigencia 2020 la contratación directa representa el 85.1% con 866 contratos.\n",
    "2) Para la vigencia 2021 la contratación directa representa el 89.3% con 954 contratos.\n",
    "3) Para la vigencia 2022 la contratación directa representa el 87.1% con 992 contratos.\n",
    "4) Para la vigencia 2023 la contratación directa representa el 93.8% con 1924 contratos.\n",
    "\n",
    "Dennota un aporte gigantesco en el ejercicio institucional enfocado a personal que desempeña labores por contrato prestación de servicios profesionales."
   ]
  },
  {
   "cell_type": "code",
   "execution_count": 24,
   "metadata": {},
   "outputs": [
    {
     "data": {
      "text/html": [
       "<div>\n",
       "<style scoped>\n",
       "    .dataframe tbody tr th:only-of-type {\n",
       "        vertical-align: middle;\n",
       "    }\n",
       "\n",
       "    .dataframe tbody tr th {\n",
       "        vertical-align: top;\n",
       "    }\n",
       "\n",
       "    .dataframe thead th {\n",
       "        text-align: right;\n",
       "    }\n",
       "</style>\n",
       "<table border=\"1\" class=\"dataframe\">\n",
       "  <thead>\n",
       "    <tr style=\"text-align: right;\">\n",
       "      <th></th>\n",
       "      <th>modalidad_de_contratacion</th>\n",
       "      <th>valor_del_contrato</th>\n",
       "      <th>numero_de_contratos</th>\n",
       "      <th>porcentaje</th>\n",
       "    </tr>\n",
       "  </thead>\n",
       "  <tbody>\n",
       "    <tr>\n",
       "      <th>0</th>\n",
       "      <td>Contratación directa</td>\n",
       "      <td>3325538039064</td>\n",
       "      <td>4690</td>\n",
       "      <td>88.88%</td>\n",
       "    </tr>\n",
       "    <tr>\n",
       "      <th>1</th>\n",
       "      <td>Contratación régimen especial</td>\n",
       "      <td>92286007070</td>\n",
       "      <td>383</td>\n",
       "      <td>7.26%</td>\n",
       "    </tr>\n",
       "    <tr>\n",
       "      <th>2</th>\n",
       "      <td>Selección abreviada subasta inversa</td>\n",
       "      <td>25166045656</td>\n",
       "      <td>23</td>\n",
       "      <td>0.44%</td>\n",
       "    </tr>\n",
       "    <tr>\n",
       "      <th>3</th>\n",
       "      <td>Concurso de méritos abierto</td>\n",
       "      <td>20507026377</td>\n",
       "      <td>30</td>\n",
       "      <td>0.57%</td>\n",
       "    </tr>\n",
       "    <tr>\n",
       "      <th>4</th>\n",
       "      <td>CCE-20-Concurso_Meritos_Sin_Lista_Corta_1Sobre</td>\n",
       "      <td>13486955210</td>\n",
       "      <td>17</td>\n",
       "      <td>0.32%</td>\n",
       "    </tr>\n",
       "    <tr>\n",
       "      <th>5</th>\n",
       "      <td>Licitación pública</td>\n",
       "      <td>10936695768</td>\n",
       "      <td>5</td>\n",
       "      <td>0.09%</td>\n",
       "    </tr>\n",
       "    <tr>\n",
       "      <th>6</th>\n",
       "      <td>Selección Abreviada de Menor Cuantía</td>\n",
       "      <td>4954551623</td>\n",
       "      <td>8</td>\n",
       "      <td>0.15%</td>\n",
       "    </tr>\n",
       "    <tr>\n",
       "      <th>7</th>\n",
       "      <td>Mínima cuantía</td>\n",
       "      <td>3993285484</td>\n",
       "      <td>121</td>\n",
       "      <td>2.29%</td>\n",
       "    </tr>\n",
       "  </tbody>\n",
       "</table>\n",
       "</div>"
      ],
      "text/plain": [
       "                        modalidad_de_contratacion  valor_del_contrato  \\\n",
       "0                            Contratación directa       3325538039064   \n",
       "1                   Contratación régimen especial         92286007070   \n",
       "2             Selección abreviada subasta inversa         25166045656   \n",
       "3                     Concurso de méritos abierto         20507026377   \n",
       "4  CCE-20-Concurso_Meritos_Sin_Lista_Corta_1Sobre         13486955210   \n",
       "5                              Licitación pública         10936695768   \n",
       "6            Selección Abreviada de Menor Cuantía          4954551623   \n",
       "7                                  Mínima cuantía          3993285484   \n",
       "\n",
       "   numero_de_contratos porcentaje  \n",
       "0                 4690     88.88%  \n",
       "1                  383      7.26%  \n",
       "2                   23      0.44%  \n",
       "3                   30      0.57%  \n",
       "4                   17      0.32%  \n",
       "5                    5      0.09%  \n",
       "6                    8      0.15%  \n",
       "7                  121      2.29%  "
      ]
     },
     "execution_count": 24,
     "metadata": {},
     "output_type": "execute_result"
    }
   ],
   "source": [
    "# Agrupar y calcular la suma y la cantidad\n",
    "DF_modalidad_contratacion = DF_contratos_v1.groupby('modalidad_de_contratacion').agg(\n",
    "    valor_del_contrato=('valor_del_contrato', 'sum'),\n",
    "    numero_de_contratos=('modalidad_de_contratacion', 'size')\n",
    ")\n",
    "\n",
    "# Calcular el porcentaje\n",
    "DF_modalidad_contratacion['porcentaje'] = (DF_modalidad_contratacion['numero_de_contratos'] / \n",
    "                                           len(DF_contratos_v1) * 100).round(2).astype(str) + '%'\n",
    "\n",
    "# Ordenar y resetear el índice\n",
    "DF_modalidad_contratacion = DF_modalidad_contratacion.sort_values(by='valor_del_contrato', ascending=False).reset_index()\n",
    "\n",
    "# Mostrar base\n",
    "DF_modalidad_contratacion"
   ]
  },
  {
   "cell_type": "code",
   "execution_count": 25,
   "metadata": {},
   "outputs": [
    {
     "data": {
      "application/vnd.plotly.v1+json": {
       "config": {
        "plotlyServerURL": "https://plot.ly"
       },
       "data": [
        {
         "alignmentgroup": "True",
         "hovertemplate": "variable=CCE-20-Concurso_Meritos_Sin_Lista_Corta_1Sobre<br>Año=%{x}<br>value=%{y}<extra></extra>",
         "legendgroup": "CCE-20-Concurso_Meritos_Sin_Lista_Corta_1Sobre",
         "marker": {
          "color": "#636efa",
          "pattern": {
           "shape": ""
          }
         },
         "name": "CCE-20-Concurso_Meritos_Sin_Lista_Corta_1Sobre",
         "offsetgroup": "CCE-20-Concurso_Meritos_Sin_Lista_Corta_1Sobre",
         "orientation": "v",
         "showlegend": true,
         "textposition": "auto",
         "type": "bar",
         "x": [
          "2020",
          "2021",
          "2022",
          "2023"
         ],
         "xaxis": "x",
         "y": [
          null,
          null,
          12,
          5
         ],
         "yaxis": "y"
        },
        {
         "alignmentgroup": "True",
         "hovertemplate": "variable=Concurso de méritos abierto<br>Año=%{x}<br>value=%{y}<extra></extra>",
         "legendgroup": "Concurso de méritos abierto",
         "marker": {
          "color": "#EF553B",
          "pattern": {
           "shape": ""
          }
         },
         "name": "Concurso de méritos abierto",
         "offsetgroup": "Concurso de méritos abierto",
         "orientation": "v",
         "showlegend": true,
         "textposition": "auto",
         "type": "bar",
         "x": [
          "2020",
          "2021",
          "2022",
          "2023"
         ],
         "xaxis": "x",
         "y": [
          27,
          null,
          3,
          null
         ],
         "yaxis": "y"
        },
        {
         "alignmentgroup": "True",
         "hovertemplate": "variable=Contratación directa<br>Año=%{x}<br>value=%{y}<extra></extra>",
         "legendgroup": "Contratación directa",
         "marker": {
          "color": "#00cc96",
          "pattern": {
           "shape": ""
          }
         },
         "name": "Contratación directa",
         "offsetgroup": "Contratación directa",
         "orientation": "v",
         "showlegend": true,
         "textposition": "auto",
         "type": "bar",
         "x": [
          "2020",
          "2021",
          "2022",
          "2023"
         ],
         "xaxis": "x",
         "y": [
          845,
          947,
          979,
          1919
         ],
         "yaxis": "y"
        },
        {
         "alignmentgroup": "True",
         "hovertemplate": "variable=Contratación régimen especial<br>Año=%{x}<br>value=%{y}<extra></extra>",
         "legendgroup": "Contratación régimen especial",
         "marker": {
          "color": "#ab63fa",
          "pattern": {
           "shape": ""
          }
         },
         "name": "Contratación régimen especial",
         "offsetgroup": "Contratación régimen especial",
         "orientation": "v",
         "showlegend": true,
         "textposition": "auto",
         "type": "bar",
         "x": [
          "2020",
          "2021",
          "2022",
          "2023"
         ],
         "xaxis": "x",
         "y": [
          105,
          90,
          98,
          90
         ],
         "yaxis": "y"
        },
        {
         "alignmentgroup": "True",
         "hovertemplate": "variable=Licitación pública<br>Año=%{x}<br>value=%{y}<extra></extra>",
         "legendgroup": "Licitación pública",
         "marker": {
          "color": "#FFA15A",
          "pattern": {
           "shape": ""
          }
         },
         "name": "Licitación pública",
         "offsetgroup": "Licitación pública",
         "orientation": "v",
         "showlegend": true,
         "textposition": "auto",
         "type": "bar",
         "x": [
          "2020",
          "2021",
          "2022",
          "2023"
         ],
         "xaxis": "x",
         "y": [
          3,
          1,
          1,
          null
         ],
         "yaxis": "y"
        },
        {
         "alignmentgroup": "True",
         "hovertemplate": "variable=Mínima cuantía<br>Año=%{x}<br>value=%{y}<extra></extra>",
         "legendgroup": "Mínima cuantía",
         "marker": {
          "color": "#19d3f3",
          "pattern": {
           "shape": ""
          }
         },
         "name": "Mínima cuantía",
         "offsetgroup": "Mínima cuantía",
         "orientation": "v",
         "showlegend": true,
         "textposition": "auto",
         "type": "bar",
         "x": [
          "2020",
          "2021",
          "2022",
          "2023"
         ],
         "xaxis": "x",
         "y": [
          27,
          24,
          39,
          31
         ],
         "yaxis": "y"
        },
        {
         "alignmentgroup": "True",
         "hovertemplate": "variable=Selección Abreviada de Menor Cuantía<br>Año=%{x}<br>value=%{y}<extra></extra>",
         "legendgroup": "Selección Abreviada de Menor Cuantía",
         "marker": {
          "color": "#FF6692",
          "pattern": {
           "shape": ""
          }
         },
         "name": "Selección Abreviada de Menor Cuantía",
         "offsetgroup": "Selección Abreviada de Menor Cuantía",
         "orientation": "v",
         "showlegend": true,
         "textposition": "auto",
         "type": "bar",
         "x": [
          "2020",
          "2021",
          "2022",
          "2023"
         ],
         "xaxis": "x",
         "y": [
          3,
          1,
          1,
          3
         ],
         "yaxis": "y"
        },
        {
         "alignmentgroup": "True",
         "hovertemplate": "variable=Selección abreviada subasta inversa<br>Año=%{x}<br>value=%{y}<extra></extra>",
         "legendgroup": "Selección abreviada subasta inversa",
         "marker": {
          "color": "#B6E880",
          "pattern": {
           "shape": ""
          }
         },
         "name": "Selección abreviada subasta inversa",
         "offsetgroup": "Selección abreviada subasta inversa",
         "orientation": "v",
         "showlegend": true,
         "textposition": "auto",
         "type": "bar",
         "x": [
          "2020",
          "2021",
          "2022",
          "2023"
         ],
         "xaxis": "x",
         "y": [
          8,
          6,
          6,
          3
         ],
         "yaxis": "y"
        }
       ],
       "layout": {
        "barmode": "relative",
        "height": 600,
        "legend": {
         "title": {
          "text": "variable"
         },
         "tracegroupgap": 0
        },
        "plot_bgcolor": "rgba(0, 0, 0, 0)",
        "showlegend": true,
        "template": {
         "data": {
          "bar": [
           {
            "error_x": {
             "color": "#2a3f5f"
            },
            "error_y": {
             "color": "#2a3f5f"
            },
            "marker": {
             "line": {
              "color": "#E5ECF6",
              "width": 0.5
             },
             "pattern": {
              "fillmode": "overlay",
              "size": 10,
              "solidity": 0.2
             }
            },
            "type": "bar"
           }
          ],
          "barpolar": [
           {
            "marker": {
             "line": {
              "color": "#E5ECF6",
              "width": 0.5
             },
             "pattern": {
              "fillmode": "overlay",
              "size": 10,
              "solidity": 0.2
             }
            },
            "type": "barpolar"
           }
          ],
          "carpet": [
           {
            "aaxis": {
             "endlinecolor": "#2a3f5f",
             "gridcolor": "white",
             "linecolor": "white",
             "minorgridcolor": "white",
             "startlinecolor": "#2a3f5f"
            },
            "baxis": {
             "endlinecolor": "#2a3f5f",
             "gridcolor": "white",
             "linecolor": "white",
             "minorgridcolor": "white",
             "startlinecolor": "#2a3f5f"
            },
            "type": "carpet"
           }
          ],
          "choropleth": [
           {
            "colorbar": {
             "outlinewidth": 0,
             "ticks": ""
            },
            "type": "choropleth"
           }
          ],
          "contour": [
           {
            "colorbar": {
             "outlinewidth": 0,
             "ticks": ""
            },
            "colorscale": [
             [
              0,
              "#0d0887"
             ],
             [
              0.1111111111111111,
              "#46039f"
             ],
             [
              0.2222222222222222,
              "#7201a8"
             ],
             [
              0.3333333333333333,
              "#9c179e"
             ],
             [
              0.4444444444444444,
              "#bd3786"
             ],
             [
              0.5555555555555556,
              "#d8576b"
             ],
             [
              0.6666666666666666,
              "#ed7953"
             ],
             [
              0.7777777777777778,
              "#fb9f3a"
             ],
             [
              0.8888888888888888,
              "#fdca26"
             ],
             [
              1,
              "#f0f921"
             ]
            ],
            "type": "contour"
           }
          ],
          "contourcarpet": [
           {
            "colorbar": {
             "outlinewidth": 0,
             "ticks": ""
            },
            "type": "contourcarpet"
           }
          ],
          "heatmap": [
           {
            "colorbar": {
             "outlinewidth": 0,
             "ticks": ""
            },
            "colorscale": [
             [
              0,
              "#0d0887"
             ],
             [
              0.1111111111111111,
              "#46039f"
             ],
             [
              0.2222222222222222,
              "#7201a8"
             ],
             [
              0.3333333333333333,
              "#9c179e"
             ],
             [
              0.4444444444444444,
              "#bd3786"
             ],
             [
              0.5555555555555556,
              "#d8576b"
             ],
             [
              0.6666666666666666,
              "#ed7953"
             ],
             [
              0.7777777777777778,
              "#fb9f3a"
             ],
             [
              0.8888888888888888,
              "#fdca26"
             ],
             [
              1,
              "#f0f921"
             ]
            ],
            "type": "heatmap"
           }
          ],
          "heatmapgl": [
           {
            "colorbar": {
             "outlinewidth": 0,
             "ticks": ""
            },
            "colorscale": [
             [
              0,
              "#0d0887"
             ],
             [
              0.1111111111111111,
              "#46039f"
             ],
             [
              0.2222222222222222,
              "#7201a8"
             ],
             [
              0.3333333333333333,
              "#9c179e"
             ],
             [
              0.4444444444444444,
              "#bd3786"
             ],
             [
              0.5555555555555556,
              "#d8576b"
             ],
             [
              0.6666666666666666,
              "#ed7953"
             ],
             [
              0.7777777777777778,
              "#fb9f3a"
             ],
             [
              0.8888888888888888,
              "#fdca26"
             ],
             [
              1,
              "#f0f921"
             ]
            ],
            "type": "heatmapgl"
           }
          ],
          "histogram": [
           {
            "marker": {
             "pattern": {
              "fillmode": "overlay",
              "size": 10,
              "solidity": 0.2
             }
            },
            "type": "histogram"
           }
          ],
          "histogram2d": [
           {
            "colorbar": {
             "outlinewidth": 0,
             "ticks": ""
            },
            "colorscale": [
             [
              0,
              "#0d0887"
             ],
             [
              0.1111111111111111,
              "#46039f"
             ],
             [
              0.2222222222222222,
              "#7201a8"
             ],
             [
              0.3333333333333333,
              "#9c179e"
             ],
             [
              0.4444444444444444,
              "#bd3786"
             ],
             [
              0.5555555555555556,
              "#d8576b"
             ],
             [
              0.6666666666666666,
              "#ed7953"
             ],
             [
              0.7777777777777778,
              "#fb9f3a"
             ],
             [
              0.8888888888888888,
              "#fdca26"
             ],
             [
              1,
              "#f0f921"
             ]
            ],
            "type": "histogram2d"
           }
          ],
          "histogram2dcontour": [
           {
            "colorbar": {
             "outlinewidth": 0,
             "ticks": ""
            },
            "colorscale": [
             [
              0,
              "#0d0887"
             ],
             [
              0.1111111111111111,
              "#46039f"
             ],
             [
              0.2222222222222222,
              "#7201a8"
             ],
             [
              0.3333333333333333,
              "#9c179e"
             ],
             [
              0.4444444444444444,
              "#bd3786"
             ],
             [
              0.5555555555555556,
              "#d8576b"
             ],
             [
              0.6666666666666666,
              "#ed7953"
             ],
             [
              0.7777777777777778,
              "#fb9f3a"
             ],
             [
              0.8888888888888888,
              "#fdca26"
             ],
             [
              1,
              "#f0f921"
             ]
            ],
            "type": "histogram2dcontour"
           }
          ],
          "mesh3d": [
           {
            "colorbar": {
             "outlinewidth": 0,
             "ticks": ""
            },
            "type": "mesh3d"
           }
          ],
          "parcoords": [
           {
            "line": {
             "colorbar": {
              "outlinewidth": 0,
              "ticks": ""
             }
            },
            "type": "parcoords"
           }
          ],
          "pie": [
           {
            "automargin": true,
            "type": "pie"
           }
          ],
          "scatter": [
           {
            "fillpattern": {
             "fillmode": "overlay",
             "size": 10,
             "solidity": 0.2
            },
            "type": "scatter"
           }
          ],
          "scatter3d": [
           {
            "line": {
             "colorbar": {
              "outlinewidth": 0,
              "ticks": ""
             }
            },
            "marker": {
             "colorbar": {
              "outlinewidth": 0,
              "ticks": ""
             }
            },
            "type": "scatter3d"
           }
          ],
          "scattercarpet": [
           {
            "marker": {
             "colorbar": {
              "outlinewidth": 0,
              "ticks": ""
             }
            },
            "type": "scattercarpet"
           }
          ],
          "scattergeo": [
           {
            "marker": {
             "colorbar": {
              "outlinewidth": 0,
              "ticks": ""
             }
            },
            "type": "scattergeo"
           }
          ],
          "scattergl": [
           {
            "marker": {
             "colorbar": {
              "outlinewidth": 0,
              "ticks": ""
             }
            },
            "type": "scattergl"
           }
          ],
          "scattermapbox": [
           {
            "marker": {
             "colorbar": {
              "outlinewidth": 0,
              "ticks": ""
             }
            },
            "type": "scattermapbox"
           }
          ],
          "scatterpolar": [
           {
            "marker": {
             "colorbar": {
              "outlinewidth": 0,
              "ticks": ""
             }
            },
            "type": "scatterpolar"
           }
          ],
          "scatterpolargl": [
           {
            "marker": {
             "colorbar": {
              "outlinewidth": 0,
              "ticks": ""
             }
            },
            "type": "scatterpolargl"
           }
          ],
          "scatterternary": [
           {
            "marker": {
             "colorbar": {
              "outlinewidth": 0,
              "ticks": ""
             }
            },
            "type": "scatterternary"
           }
          ],
          "surface": [
           {
            "colorbar": {
             "outlinewidth": 0,
             "ticks": ""
            },
            "colorscale": [
             [
              0,
              "#0d0887"
             ],
             [
              0.1111111111111111,
              "#46039f"
             ],
             [
              0.2222222222222222,
              "#7201a8"
             ],
             [
              0.3333333333333333,
              "#9c179e"
             ],
             [
              0.4444444444444444,
              "#bd3786"
             ],
             [
              0.5555555555555556,
              "#d8576b"
             ],
             [
              0.6666666666666666,
              "#ed7953"
             ],
             [
              0.7777777777777778,
              "#fb9f3a"
             ],
             [
              0.8888888888888888,
              "#fdca26"
             ],
             [
              1,
              "#f0f921"
             ]
            ],
            "type": "surface"
           }
          ],
          "table": [
           {
            "cells": {
             "fill": {
              "color": "#EBF0F8"
             },
             "line": {
              "color": "white"
             }
            },
            "header": {
             "fill": {
              "color": "#C8D4E3"
             },
             "line": {
              "color": "white"
             }
            },
            "type": "table"
           }
          ]
         },
         "layout": {
          "annotationdefaults": {
           "arrowcolor": "#2a3f5f",
           "arrowhead": 0,
           "arrowwidth": 1
          },
          "autotypenumbers": "strict",
          "coloraxis": {
           "colorbar": {
            "outlinewidth": 0,
            "ticks": ""
           }
          },
          "colorscale": {
           "diverging": [
            [
             0,
             "#8e0152"
            ],
            [
             0.1,
             "#c51b7d"
            ],
            [
             0.2,
             "#de77ae"
            ],
            [
             0.3,
             "#f1b6da"
            ],
            [
             0.4,
             "#fde0ef"
            ],
            [
             0.5,
             "#f7f7f7"
            ],
            [
             0.6,
             "#e6f5d0"
            ],
            [
             0.7,
             "#b8e186"
            ],
            [
             0.8,
             "#7fbc41"
            ],
            [
             0.9,
             "#4d9221"
            ],
            [
             1,
             "#276419"
            ]
           ],
           "sequential": [
            [
             0,
             "#0d0887"
            ],
            [
             0.1111111111111111,
             "#46039f"
            ],
            [
             0.2222222222222222,
             "#7201a8"
            ],
            [
             0.3333333333333333,
             "#9c179e"
            ],
            [
             0.4444444444444444,
             "#bd3786"
            ],
            [
             0.5555555555555556,
             "#d8576b"
            ],
            [
             0.6666666666666666,
             "#ed7953"
            ],
            [
             0.7777777777777778,
             "#fb9f3a"
            ],
            [
             0.8888888888888888,
             "#fdca26"
            ],
            [
             1,
             "#f0f921"
            ]
           ],
           "sequentialminus": [
            [
             0,
             "#0d0887"
            ],
            [
             0.1111111111111111,
             "#46039f"
            ],
            [
             0.2222222222222222,
             "#7201a8"
            ],
            [
             0.3333333333333333,
             "#9c179e"
            ],
            [
             0.4444444444444444,
             "#bd3786"
            ],
            [
             0.5555555555555556,
             "#d8576b"
            ],
            [
             0.6666666666666666,
             "#ed7953"
            ],
            [
             0.7777777777777778,
             "#fb9f3a"
            ],
            [
             0.8888888888888888,
             "#fdca26"
            ],
            [
             1,
             "#f0f921"
            ]
           ]
          },
          "colorway": [
           "#636efa",
           "#EF553B",
           "#00cc96",
           "#ab63fa",
           "#FFA15A",
           "#19d3f3",
           "#FF6692",
           "#B6E880",
           "#FF97FF",
           "#FECB52"
          ],
          "font": {
           "color": "#2a3f5f"
          },
          "geo": {
           "bgcolor": "white",
           "lakecolor": "white",
           "landcolor": "#E5ECF6",
           "showlakes": true,
           "showland": true,
           "subunitcolor": "white"
          },
          "hoverlabel": {
           "align": "left"
          },
          "hovermode": "closest",
          "mapbox": {
           "style": "light"
          },
          "paper_bgcolor": "white",
          "plot_bgcolor": "#E5ECF6",
          "polar": {
           "angularaxis": {
            "gridcolor": "white",
            "linecolor": "white",
            "ticks": ""
           },
           "bgcolor": "#E5ECF6",
           "radialaxis": {
            "gridcolor": "white",
            "linecolor": "white",
            "ticks": ""
           }
          },
          "scene": {
           "xaxis": {
            "backgroundcolor": "#E5ECF6",
            "gridcolor": "white",
            "gridwidth": 2,
            "linecolor": "white",
            "showbackground": true,
            "ticks": "",
            "zerolinecolor": "white"
           },
           "yaxis": {
            "backgroundcolor": "#E5ECF6",
            "gridcolor": "white",
            "gridwidth": 2,
            "linecolor": "white",
            "showbackground": true,
            "ticks": "",
            "zerolinecolor": "white"
           },
           "zaxis": {
            "backgroundcolor": "#E5ECF6",
            "gridcolor": "white",
            "gridwidth": 2,
            "linecolor": "white",
            "showbackground": true,
            "ticks": "",
            "zerolinecolor": "white"
           }
          },
          "shapedefaults": {
           "line": {
            "color": "#2a3f5f"
           }
          },
          "ternary": {
           "aaxis": {
            "gridcolor": "white",
            "linecolor": "white",
            "ticks": ""
           },
           "baxis": {
            "gridcolor": "white",
            "linecolor": "white",
            "ticks": ""
           },
           "bgcolor": "#E5ECF6",
           "caxis": {
            "gridcolor": "white",
            "linecolor": "white",
            "ticks": ""
           }
          },
          "title": {
           "x": 0.05
          },
          "xaxis": {
           "automargin": true,
           "gridcolor": "white",
           "linecolor": "white",
           "ticks": "",
           "title": {
            "standoff": 15
           },
           "zerolinecolor": "white",
           "zerolinewidth": 2
          },
          "yaxis": {
           "automargin": true,
           "gridcolor": "white",
           "linecolor": "white",
           "ticks": "",
           "title": {
            "standoff": 15
           },
           "zerolinecolor": "white",
           "zerolinewidth": 2
          }
         }
        },
        "title": {
         "text": "Número de Contratos por Modalidad y Año"
        },
        "width": 1000,
        "xaxis": {
         "anchor": "y",
         "domain": [
          0,
          1
         ],
         "tickangle": 0,
         "title": {
          "text": "Año"
         }
        },
        "yaxis": {
         "anchor": "x",
         "domain": [
          0,
          1
         ],
         "title": {
          "text": "Número de Contratos"
         }
        }
       }
      }
     },
     "metadata": {},
     "output_type": "display_data"
    }
   ],
   "source": [
    "# Realizar agrupaciones\n",
    "DF_modalidad_por_año = DF_contratos_v1.groupby(['fecha_de_firma_ano', 'modalidad_de_contratacion']).size().unstack().reset_index()\n",
    "\n",
    "# Crear gráfico\n",
    "fig = px.bar(\n",
    "    DF_modalidad_por_año, \n",
    "    x='fecha_de_firma_ano', \n",
    "    y=DF_modalidad_por_año.columns[1:],\n",
    "    title='Número de Contratos por modalidad y Año',\n",
    "    labels={'fecha_de_firma_ano': 'Año'}\n",
    ")\n",
    "\n",
    "# Diseño\n",
    "fig.update_layout(\n",
    "    xaxis_title='Año',\n",
    "    yaxis_title='Número de Contratos',\n",
    "    title='Número de Contratos por Modalidad y Año',\n",
    "    plot_bgcolor='rgba(0, 0, 0, 0)',\n",
    "    xaxis_tickangle = 0,\n",
    "    showlegend = True,\n",
    "    height = 600,\n",
    "    width = 1000\n",
    ")\n",
    "\n",
    "# Mostrar el gráfico\n",
    "fig.show()\n",
    "\n",
    "# Guardar la gráfica como imagen\n",
    "fig.write_image(\"graficas/grafica4.png\")"
   ]
  },
  {
   "cell_type": "markdown",
   "metadata": {},
   "source": [
    "![Gráfica](graficas/grafica4.png)"
   ]
  },
  {
   "cell_type": "markdown",
   "metadata": {},
   "source": [
    "### Análisis por número de contratos y tipo de contratación:"
   ]
  },
  {
   "cell_type": "markdown",
   "metadata": {},
   "source": [
    "Este enfoque, permite andar más en donde se encuentra concentrada la contratación del DNP y en efecto se puede identificar que está centrado en la contratación directa sin entrar aún en discriminar año a año el comportamiento el 89% de las vigencias 2020, 2021, 2022 y 2023.\n",
    "\n",
    "1) Para la vigencia 2020 la contratación directa representa el 83% con 845 contratos.\n",
    "2) Para la vigencia 2021 la contratación directa representa el 88.7% con 947 contratos.\n",
    "3) Para la vigencia 2022 la contratación directa representa el 86% con 979 contratos.\n",
    "4) Para la vigencia 2023 la contratación directa representa el 93.6% con 1919 contratos.\n",
    "\n",
    "Esto conforme al total de contratos suscritos en las vigencias estudiadas, esto que puede evidenciar varios contratos por prestación de servicios profesionales, acción que puede determinar en el siguiente componente."
   ]
  },
  {
   "cell_type": "code",
   "execution_count": 26,
   "metadata": {},
   "outputs": [
    {
     "data": {
      "text/html": [
       "<div>\n",
       "<style scoped>\n",
       "    .dataframe tbody tr th:only-of-type {\n",
       "        vertical-align: middle;\n",
       "    }\n",
       "\n",
       "    .dataframe tbody tr th {\n",
       "        vertical-align: top;\n",
       "    }\n",
       "\n",
       "    .dataframe thead th {\n",
       "        text-align: right;\n",
       "    }\n",
       "</style>\n",
       "<table border=\"1\" class=\"dataframe\">\n",
       "  <thead>\n",
       "    <tr style=\"text-align: right;\">\n",
       "      <th></th>\n",
       "      <th>tipo_de_contrato</th>\n",
       "      <th>valor_del_contrato</th>\n",
       "      <th>numero_de_contratos</th>\n",
       "      <th>porcentaje</th>\n",
       "    </tr>\n",
       "  </thead>\n",
       "  <tbody>\n",
       "    <tr>\n",
       "      <th>0</th>\n",
       "      <td>Otro</td>\n",
       "      <td>3055777027110</td>\n",
       "      <td>400</td>\n",
       "      <td>7.58%</td>\n",
       "    </tr>\n",
       "    <tr>\n",
       "      <th>1</th>\n",
       "      <td>Prestación de servicios</td>\n",
       "      <td>346155476117</td>\n",
       "      <td>4736</td>\n",
       "      <td>89.75%</td>\n",
       "    </tr>\n",
       "    <tr>\n",
       "      <th>2</th>\n",
       "      <td>Consultoría</td>\n",
       "      <td>34234125762</td>\n",
       "      <td>51</td>\n",
       "      <td>0.97%</td>\n",
       "    </tr>\n",
       "    <tr>\n",
       "      <th>3</th>\n",
       "      <td>Compraventa</td>\n",
       "      <td>19682283702</td>\n",
       "      <td>43</td>\n",
       "      <td>0.81%</td>\n",
       "    </tr>\n",
       "    <tr>\n",
       "      <th>4</th>\n",
       "      <td>Obra</td>\n",
       "      <td>17261326028</td>\n",
       "      <td>2</td>\n",
       "      <td>0.04%</td>\n",
       "    </tr>\n",
       "    <tr>\n",
       "      <th>5</th>\n",
       "      <td>Suministros</td>\n",
       "      <td>10482546286</td>\n",
       "      <td>12</td>\n",
       "      <td>0.23%</td>\n",
       "    </tr>\n",
       "    <tr>\n",
       "      <th>6</th>\n",
       "      <td>Arrendamiento de inmuebles</td>\n",
       "      <td>7820604934</td>\n",
       "      <td>19</td>\n",
       "      <td>0.36%</td>\n",
       "    </tr>\n",
       "    <tr>\n",
       "      <th>7</th>\n",
       "      <td>Seguros</td>\n",
       "      <td>5266525151</td>\n",
       "      <td>10</td>\n",
       "      <td>0.19%</td>\n",
       "    </tr>\n",
       "    <tr>\n",
       "      <th>8</th>\n",
       "      <td>Arrendamiento de muebles</td>\n",
       "      <td>154024500</td>\n",
       "      <td>1</td>\n",
       "      <td>0.02%</td>\n",
       "    </tr>\n",
       "    <tr>\n",
       "      <th>9</th>\n",
       "      <td>Servicios financieros</td>\n",
       "      <td>24800000</td>\n",
       "      <td>1</td>\n",
       "      <td>0.02%</td>\n",
       "    </tr>\n",
       "    <tr>\n",
       "      <th>10</th>\n",
       "      <td>No Especificado</td>\n",
       "      <td>9866662</td>\n",
       "      <td>1</td>\n",
       "      <td>0.02%</td>\n",
       "    </tr>\n",
       "    <tr>\n",
       "      <th>11</th>\n",
       "      <td>Comodato</td>\n",
       "      <td>0</td>\n",
       "      <td>1</td>\n",
       "      <td>0.02%</td>\n",
       "    </tr>\n",
       "  </tbody>\n",
       "</table>\n",
       "</div>"
      ],
      "text/plain": [
       "              tipo_de_contrato  valor_del_contrato  numero_de_contratos  \\\n",
       "0                         Otro       3055777027110                  400   \n",
       "1      Prestación de servicios        346155476117                 4736   \n",
       "2                  Consultoría         34234125762                   51   \n",
       "3                  Compraventa         19682283702                   43   \n",
       "4                         Obra         17261326028                    2   \n",
       "5                  Suministros         10482546286                   12   \n",
       "6   Arrendamiento de inmuebles          7820604934                   19   \n",
       "7                      Seguros          5266525151                   10   \n",
       "8     Arrendamiento de muebles           154024500                    1   \n",
       "9        Servicios financieros            24800000                    1   \n",
       "10             No Especificado             9866662                    1   \n",
       "11                    Comodato                   0                    1   \n",
       "\n",
       "   porcentaje  \n",
       "0       7.58%  \n",
       "1      89.75%  \n",
       "2       0.97%  \n",
       "3       0.81%  \n",
       "4       0.04%  \n",
       "5       0.23%  \n",
       "6       0.36%  \n",
       "7       0.19%  \n",
       "8       0.02%  \n",
       "9       0.02%  \n",
       "10      0.02%  \n",
       "11      0.02%  "
      ]
     },
     "execution_count": 26,
     "metadata": {},
     "output_type": "execute_result"
    }
   ],
   "source": [
    "# Agrupar y calcular la suma y la cantidad\n",
    "DF_tipo_contrato = DF_contratos_v1.groupby('tipo_de_contrato').agg(\n",
    "    valor_del_contrato=('valor_del_contrato', 'sum'),\n",
    "    numero_de_contratos=('tipo_de_contrato', 'size')\n",
    ")\n",
    "\n",
    "# Calcular el porcentaje\n",
    "DF_tipo_contrato['porcentaje'] = (DF_tipo_contrato['numero_de_contratos'] / \n",
    "                                           len(DF_contratos_v1) * 100).round(2).astype(str) + '%'\n",
    "\n",
    "# Ordenar y resetear el índice\n",
    "DF_tipo_contrato = DF_tipo_contrato.sort_values(by='valor_del_contrato', ascending=False).reset_index()\n",
    "\n",
    "# Mostrar base\n",
    "DF_tipo_contrato"
   ]
  },
  {
   "cell_type": "code",
   "execution_count": 27,
   "metadata": {},
   "outputs": [
    {
     "data": {
      "application/vnd.plotly.v1+json": {
       "config": {
        "plotlyServerURL": "https://plot.ly"
       },
       "data": [
        {
         "alignmentgroup": "True",
         "hovertemplate": "variable=Arrendamiento de inmuebles<br>Año=%{x}<br>value=%{y}<extra></extra>",
         "legendgroup": "Arrendamiento de inmuebles",
         "marker": {
          "color": "#636efa",
          "pattern": {
           "shape": ""
          }
         },
         "name": "Arrendamiento de inmuebles",
         "offsetgroup": "Arrendamiento de inmuebles",
         "orientation": "v",
         "showlegend": true,
         "textposition": "auto",
         "type": "bar",
         "x": [
          "2020",
          "2021",
          "2022",
          "2023"
         ],
         "xaxis": "x",
         "y": [
          14,
          1,
          3,
          1
         ],
         "yaxis": "y"
        },
        {
         "alignmentgroup": "True",
         "hovertemplate": "variable=Arrendamiento de muebles<br>Año=%{x}<br>value=%{y}<extra></extra>",
         "legendgroup": "Arrendamiento de muebles",
         "marker": {
          "color": "#EF553B",
          "pattern": {
           "shape": ""
          }
         },
         "name": "Arrendamiento de muebles",
         "offsetgroup": "Arrendamiento de muebles",
         "orientation": "v",
         "showlegend": true,
         "textposition": "auto",
         "type": "bar",
         "x": [
          "2020",
          "2021",
          "2022",
          "2023"
         ],
         "xaxis": "x",
         "y": [
          1,
          null,
          null,
          null
         ],
         "yaxis": "y"
        },
        {
         "alignmentgroup": "True",
         "hovertemplate": "variable=Comodato<br>Año=%{x}<br>value=%{y}<extra></extra>",
         "legendgroup": "Comodato",
         "marker": {
          "color": "#00cc96",
          "pattern": {
           "shape": ""
          }
         },
         "name": "Comodato",
         "offsetgroup": "Comodato",
         "orientation": "v",
         "showlegend": true,
         "textposition": "auto",
         "type": "bar",
         "x": [
          "2020",
          "2021",
          "2022",
          "2023"
         ],
         "xaxis": "x",
         "y": [
          null,
          1,
          null,
          null
         ],
         "yaxis": "y"
        },
        {
         "alignmentgroup": "True",
         "hovertemplate": "variable=Compraventa<br>Año=%{x}<br>value=%{y}<extra></extra>",
         "legendgroup": "Compraventa",
         "marker": {
          "color": "#ab63fa",
          "pattern": {
           "shape": ""
          }
         },
         "name": "Compraventa",
         "offsetgroup": "Compraventa",
         "orientation": "v",
         "showlegend": true,
         "textposition": "auto",
         "type": "bar",
         "x": [
          "2020",
          "2021",
          "2022",
          "2023"
         ],
         "xaxis": "x",
         "y": [
          15,
          6,
          11,
          11
         ],
         "yaxis": "y"
        },
        {
         "alignmentgroup": "True",
         "hovertemplate": "variable=Consultoría<br>Año=%{x}<br>value=%{y}<extra></extra>",
         "legendgroup": "Consultoría",
         "marker": {
          "color": "#FFA15A",
          "pattern": {
           "shape": ""
          }
         },
         "name": "Consultoría",
         "offsetgroup": "Consultoría",
         "orientation": "v",
         "showlegend": true,
         "textposition": "auto",
         "type": "bar",
         "x": [
          "2020",
          "2021",
          "2022",
          "2023"
         ],
         "xaxis": "x",
         "y": [
          28,
          null,
          16,
          7
         ],
         "yaxis": "y"
        },
        {
         "alignmentgroup": "True",
         "hovertemplate": "variable=No Especificado<br>Año=%{x}<br>value=%{y}<extra></extra>",
         "legendgroup": "No Especificado",
         "marker": {
          "color": "#19d3f3",
          "pattern": {
           "shape": ""
          }
         },
         "name": "No Especificado",
         "offsetgroup": "No Especificado",
         "orientation": "v",
         "showlegend": true,
         "textposition": "auto",
         "type": "bar",
         "x": [
          "2020",
          "2021",
          "2022",
          "2023"
         ],
         "xaxis": "x",
         "y": [
          null,
          null,
          null,
          1
         ],
         "yaxis": "y"
        },
        {
         "alignmentgroup": "True",
         "hovertemplate": "variable=Obra<br>Año=%{x}<br>value=%{y}<extra></extra>",
         "legendgroup": "Obra",
         "marker": {
          "color": "#FF6692",
          "pattern": {
           "shape": ""
          }
         },
         "name": "Obra",
         "offsetgroup": "Obra",
         "orientation": "v",
         "showlegend": true,
         "textposition": "auto",
         "type": "bar",
         "x": [
          "2020",
          "2021",
          "2022",
          "2023"
         ],
         "xaxis": "x",
         "y": [
          null,
          1,
          null,
          1
         ],
         "yaxis": "y"
        },
        {
         "alignmentgroup": "True",
         "hovertemplate": "variable=Otro<br>Año=%{x}<br>value=%{y}<extra></extra>",
         "legendgroup": "Otro",
         "marker": {
          "color": "#B6E880",
          "pattern": {
           "shape": ""
          }
         },
         "name": "Otro",
         "offsetgroup": "Otro",
         "orientation": "v",
         "showlegend": true,
         "textposition": "auto",
         "type": "bar",
         "x": [
          "2020",
          "2021",
          "2022",
          "2023"
         ],
         "xaxis": "x",
         "y": [
          92,
          102,
          109,
          97
         ],
         "yaxis": "y"
        },
        {
         "alignmentgroup": "True",
         "hovertemplate": "variable=Prestación de servicios<br>Año=%{x}<br>value=%{y}<extra></extra>",
         "legendgroup": "Prestación de servicios",
         "marker": {
          "color": "#FF97FF",
          "pattern": {
           "shape": ""
          }
         },
         "name": "Prestación de servicios",
         "offsetgroup": "Prestación de servicios",
         "orientation": "v",
         "showlegend": true,
         "textposition": "auto",
         "type": "bar",
         "x": [
          "2020",
          "2021",
          "2022",
          "2023"
         ],
         "xaxis": "x",
         "y": [
          866,
          954,
          992,
          1924
         ],
         "yaxis": "y"
        },
        {
         "alignmentgroup": "True",
         "hovertemplate": "variable=Seguros<br>Año=%{x}<br>value=%{y}<extra></extra>",
         "legendgroup": "Seguros",
         "marker": {
          "color": "#FECB52",
          "pattern": {
           "shape": ""
          }
         },
         "name": "Seguros",
         "offsetgroup": "Seguros",
         "orientation": "v",
         "showlegend": true,
         "textposition": "auto",
         "type": "bar",
         "x": [
          "2020",
          "2021",
          "2022",
          "2023"
         ],
         "xaxis": "x",
         "y": [
          2,
          1,
          3,
          4
         ],
         "yaxis": "y"
        },
        {
         "alignmentgroup": "True",
         "hovertemplate": "variable=Servicios financieros<br>Año=%{x}<br>value=%{y}<extra></extra>",
         "legendgroup": "Servicios financieros",
         "marker": {
          "color": "#636efa",
          "pattern": {
           "shape": ""
          }
         },
         "name": "Servicios financieros",
         "offsetgroup": "Servicios financieros",
         "orientation": "v",
         "showlegend": true,
         "textposition": "auto",
         "type": "bar",
         "x": [
          "2020",
          "2021",
          "2022",
          "2023"
         ],
         "xaxis": "x",
         "y": [
          null,
          null,
          null,
          1
         ],
         "yaxis": "y"
        },
        {
         "alignmentgroup": "True",
         "hovertemplate": "variable=Suministros<br>Año=%{x}<br>value=%{y}<extra></extra>",
         "legendgroup": "Suministros",
         "marker": {
          "color": "#EF553B",
          "pattern": {
           "shape": ""
          }
         },
         "name": "Suministros",
         "offsetgroup": "Suministros",
         "orientation": "v",
         "showlegend": true,
         "textposition": "auto",
         "type": "bar",
         "x": [
          "2020",
          "2021",
          "2022",
          "2023"
         ],
         "xaxis": "x",
         "y": [
          null,
          3,
          5,
          4
         ],
         "yaxis": "y"
        }
       ],
       "layout": {
        "barmode": "relative",
        "height": 600,
        "legend": {
         "title": {
          "text": "variable"
         },
         "tracegroupgap": 0
        },
        "plot_bgcolor": "rgba(0, 0, 0, 0)",
        "showlegend": true,
        "template": {
         "data": {
          "bar": [
           {
            "error_x": {
             "color": "#2a3f5f"
            },
            "error_y": {
             "color": "#2a3f5f"
            },
            "marker": {
             "line": {
              "color": "#E5ECF6",
              "width": 0.5
             },
             "pattern": {
              "fillmode": "overlay",
              "size": 10,
              "solidity": 0.2
             }
            },
            "type": "bar"
           }
          ],
          "barpolar": [
           {
            "marker": {
             "line": {
              "color": "#E5ECF6",
              "width": 0.5
             },
             "pattern": {
              "fillmode": "overlay",
              "size": 10,
              "solidity": 0.2
             }
            },
            "type": "barpolar"
           }
          ],
          "carpet": [
           {
            "aaxis": {
             "endlinecolor": "#2a3f5f",
             "gridcolor": "white",
             "linecolor": "white",
             "minorgridcolor": "white",
             "startlinecolor": "#2a3f5f"
            },
            "baxis": {
             "endlinecolor": "#2a3f5f",
             "gridcolor": "white",
             "linecolor": "white",
             "minorgridcolor": "white",
             "startlinecolor": "#2a3f5f"
            },
            "type": "carpet"
           }
          ],
          "choropleth": [
           {
            "colorbar": {
             "outlinewidth": 0,
             "ticks": ""
            },
            "type": "choropleth"
           }
          ],
          "contour": [
           {
            "colorbar": {
             "outlinewidth": 0,
             "ticks": ""
            },
            "colorscale": [
             [
              0,
              "#0d0887"
             ],
             [
              0.1111111111111111,
              "#46039f"
             ],
             [
              0.2222222222222222,
              "#7201a8"
             ],
             [
              0.3333333333333333,
              "#9c179e"
             ],
             [
              0.4444444444444444,
              "#bd3786"
             ],
             [
              0.5555555555555556,
              "#d8576b"
             ],
             [
              0.6666666666666666,
              "#ed7953"
             ],
             [
              0.7777777777777778,
              "#fb9f3a"
             ],
             [
              0.8888888888888888,
              "#fdca26"
             ],
             [
              1,
              "#f0f921"
             ]
            ],
            "type": "contour"
           }
          ],
          "contourcarpet": [
           {
            "colorbar": {
             "outlinewidth": 0,
             "ticks": ""
            },
            "type": "contourcarpet"
           }
          ],
          "heatmap": [
           {
            "colorbar": {
             "outlinewidth": 0,
             "ticks": ""
            },
            "colorscale": [
             [
              0,
              "#0d0887"
             ],
             [
              0.1111111111111111,
              "#46039f"
             ],
             [
              0.2222222222222222,
              "#7201a8"
             ],
             [
              0.3333333333333333,
              "#9c179e"
             ],
             [
              0.4444444444444444,
              "#bd3786"
             ],
             [
              0.5555555555555556,
              "#d8576b"
             ],
             [
              0.6666666666666666,
              "#ed7953"
             ],
             [
              0.7777777777777778,
              "#fb9f3a"
             ],
             [
              0.8888888888888888,
              "#fdca26"
             ],
             [
              1,
              "#f0f921"
             ]
            ],
            "type": "heatmap"
           }
          ],
          "heatmapgl": [
           {
            "colorbar": {
             "outlinewidth": 0,
             "ticks": ""
            },
            "colorscale": [
             [
              0,
              "#0d0887"
             ],
             [
              0.1111111111111111,
              "#46039f"
             ],
             [
              0.2222222222222222,
              "#7201a8"
             ],
             [
              0.3333333333333333,
              "#9c179e"
             ],
             [
              0.4444444444444444,
              "#bd3786"
             ],
             [
              0.5555555555555556,
              "#d8576b"
             ],
             [
              0.6666666666666666,
              "#ed7953"
             ],
             [
              0.7777777777777778,
              "#fb9f3a"
             ],
             [
              0.8888888888888888,
              "#fdca26"
             ],
             [
              1,
              "#f0f921"
             ]
            ],
            "type": "heatmapgl"
           }
          ],
          "histogram": [
           {
            "marker": {
             "pattern": {
              "fillmode": "overlay",
              "size": 10,
              "solidity": 0.2
             }
            },
            "type": "histogram"
           }
          ],
          "histogram2d": [
           {
            "colorbar": {
             "outlinewidth": 0,
             "ticks": ""
            },
            "colorscale": [
             [
              0,
              "#0d0887"
             ],
             [
              0.1111111111111111,
              "#46039f"
             ],
             [
              0.2222222222222222,
              "#7201a8"
             ],
             [
              0.3333333333333333,
              "#9c179e"
             ],
             [
              0.4444444444444444,
              "#bd3786"
             ],
             [
              0.5555555555555556,
              "#d8576b"
             ],
             [
              0.6666666666666666,
              "#ed7953"
             ],
             [
              0.7777777777777778,
              "#fb9f3a"
             ],
             [
              0.8888888888888888,
              "#fdca26"
             ],
             [
              1,
              "#f0f921"
             ]
            ],
            "type": "histogram2d"
           }
          ],
          "histogram2dcontour": [
           {
            "colorbar": {
             "outlinewidth": 0,
             "ticks": ""
            },
            "colorscale": [
             [
              0,
              "#0d0887"
             ],
             [
              0.1111111111111111,
              "#46039f"
             ],
             [
              0.2222222222222222,
              "#7201a8"
             ],
             [
              0.3333333333333333,
              "#9c179e"
             ],
             [
              0.4444444444444444,
              "#bd3786"
             ],
             [
              0.5555555555555556,
              "#d8576b"
             ],
             [
              0.6666666666666666,
              "#ed7953"
             ],
             [
              0.7777777777777778,
              "#fb9f3a"
             ],
             [
              0.8888888888888888,
              "#fdca26"
             ],
             [
              1,
              "#f0f921"
             ]
            ],
            "type": "histogram2dcontour"
           }
          ],
          "mesh3d": [
           {
            "colorbar": {
             "outlinewidth": 0,
             "ticks": ""
            },
            "type": "mesh3d"
           }
          ],
          "parcoords": [
           {
            "line": {
             "colorbar": {
              "outlinewidth": 0,
              "ticks": ""
             }
            },
            "type": "parcoords"
           }
          ],
          "pie": [
           {
            "automargin": true,
            "type": "pie"
           }
          ],
          "scatter": [
           {
            "fillpattern": {
             "fillmode": "overlay",
             "size": 10,
             "solidity": 0.2
            },
            "type": "scatter"
           }
          ],
          "scatter3d": [
           {
            "line": {
             "colorbar": {
              "outlinewidth": 0,
              "ticks": ""
             }
            },
            "marker": {
             "colorbar": {
              "outlinewidth": 0,
              "ticks": ""
             }
            },
            "type": "scatter3d"
           }
          ],
          "scattercarpet": [
           {
            "marker": {
             "colorbar": {
              "outlinewidth": 0,
              "ticks": ""
             }
            },
            "type": "scattercarpet"
           }
          ],
          "scattergeo": [
           {
            "marker": {
             "colorbar": {
              "outlinewidth": 0,
              "ticks": ""
             }
            },
            "type": "scattergeo"
           }
          ],
          "scattergl": [
           {
            "marker": {
             "colorbar": {
              "outlinewidth": 0,
              "ticks": ""
             }
            },
            "type": "scattergl"
           }
          ],
          "scattermapbox": [
           {
            "marker": {
             "colorbar": {
              "outlinewidth": 0,
              "ticks": ""
             }
            },
            "type": "scattermapbox"
           }
          ],
          "scatterpolar": [
           {
            "marker": {
             "colorbar": {
              "outlinewidth": 0,
              "ticks": ""
             }
            },
            "type": "scatterpolar"
           }
          ],
          "scatterpolargl": [
           {
            "marker": {
             "colorbar": {
              "outlinewidth": 0,
              "ticks": ""
             }
            },
            "type": "scatterpolargl"
           }
          ],
          "scatterternary": [
           {
            "marker": {
             "colorbar": {
              "outlinewidth": 0,
              "ticks": ""
             }
            },
            "type": "scatterternary"
           }
          ],
          "surface": [
           {
            "colorbar": {
             "outlinewidth": 0,
             "ticks": ""
            },
            "colorscale": [
             [
              0,
              "#0d0887"
             ],
             [
              0.1111111111111111,
              "#46039f"
             ],
             [
              0.2222222222222222,
              "#7201a8"
             ],
             [
              0.3333333333333333,
              "#9c179e"
             ],
             [
              0.4444444444444444,
              "#bd3786"
             ],
             [
              0.5555555555555556,
              "#d8576b"
             ],
             [
              0.6666666666666666,
              "#ed7953"
             ],
             [
              0.7777777777777778,
              "#fb9f3a"
             ],
             [
              0.8888888888888888,
              "#fdca26"
             ],
             [
              1,
              "#f0f921"
             ]
            ],
            "type": "surface"
           }
          ],
          "table": [
           {
            "cells": {
             "fill": {
              "color": "#EBF0F8"
             },
             "line": {
              "color": "white"
             }
            },
            "header": {
             "fill": {
              "color": "#C8D4E3"
             },
             "line": {
              "color": "white"
             }
            },
            "type": "table"
           }
          ]
         },
         "layout": {
          "annotationdefaults": {
           "arrowcolor": "#2a3f5f",
           "arrowhead": 0,
           "arrowwidth": 1
          },
          "autotypenumbers": "strict",
          "coloraxis": {
           "colorbar": {
            "outlinewidth": 0,
            "ticks": ""
           }
          },
          "colorscale": {
           "diverging": [
            [
             0,
             "#8e0152"
            ],
            [
             0.1,
             "#c51b7d"
            ],
            [
             0.2,
             "#de77ae"
            ],
            [
             0.3,
             "#f1b6da"
            ],
            [
             0.4,
             "#fde0ef"
            ],
            [
             0.5,
             "#f7f7f7"
            ],
            [
             0.6,
             "#e6f5d0"
            ],
            [
             0.7,
             "#b8e186"
            ],
            [
             0.8,
             "#7fbc41"
            ],
            [
             0.9,
             "#4d9221"
            ],
            [
             1,
             "#276419"
            ]
           ],
           "sequential": [
            [
             0,
             "#0d0887"
            ],
            [
             0.1111111111111111,
             "#46039f"
            ],
            [
             0.2222222222222222,
             "#7201a8"
            ],
            [
             0.3333333333333333,
             "#9c179e"
            ],
            [
             0.4444444444444444,
             "#bd3786"
            ],
            [
             0.5555555555555556,
             "#d8576b"
            ],
            [
             0.6666666666666666,
             "#ed7953"
            ],
            [
             0.7777777777777778,
             "#fb9f3a"
            ],
            [
             0.8888888888888888,
             "#fdca26"
            ],
            [
             1,
             "#f0f921"
            ]
           ],
           "sequentialminus": [
            [
             0,
             "#0d0887"
            ],
            [
             0.1111111111111111,
             "#46039f"
            ],
            [
             0.2222222222222222,
             "#7201a8"
            ],
            [
             0.3333333333333333,
             "#9c179e"
            ],
            [
             0.4444444444444444,
             "#bd3786"
            ],
            [
             0.5555555555555556,
             "#d8576b"
            ],
            [
             0.6666666666666666,
             "#ed7953"
            ],
            [
             0.7777777777777778,
             "#fb9f3a"
            ],
            [
             0.8888888888888888,
             "#fdca26"
            ],
            [
             1,
             "#f0f921"
            ]
           ]
          },
          "colorway": [
           "#636efa",
           "#EF553B",
           "#00cc96",
           "#ab63fa",
           "#FFA15A",
           "#19d3f3",
           "#FF6692",
           "#B6E880",
           "#FF97FF",
           "#FECB52"
          ],
          "font": {
           "color": "#2a3f5f"
          },
          "geo": {
           "bgcolor": "white",
           "lakecolor": "white",
           "landcolor": "#E5ECF6",
           "showlakes": true,
           "showland": true,
           "subunitcolor": "white"
          },
          "hoverlabel": {
           "align": "left"
          },
          "hovermode": "closest",
          "mapbox": {
           "style": "light"
          },
          "paper_bgcolor": "white",
          "plot_bgcolor": "#E5ECF6",
          "polar": {
           "angularaxis": {
            "gridcolor": "white",
            "linecolor": "white",
            "ticks": ""
           },
           "bgcolor": "#E5ECF6",
           "radialaxis": {
            "gridcolor": "white",
            "linecolor": "white",
            "ticks": ""
           }
          },
          "scene": {
           "xaxis": {
            "backgroundcolor": "#E5ECF6",
            "gridcolor": "white",
            "gridwidth": 2,
            "linecolor": "white",
            "showbackground": true,
            "ticks": "",
            "zerolinecolor": "white"
           },
           "yaxis": {
            "backgroundcolor": "#E5ECF6",
            "gridcolor": "white",
            "gridwidth": 2,
            "linecolor": "white",
            "showbackground": true,
            "ticks": "",
            "zerolinecolor": "white"
           },
           "zaxis": {
            "backgroundcolor": "#E5ECF6",
            "gridcolor": "white",
            "gridwidth": 2,
            "linecolor": "white",
            "showbackground": true,
            "ticks": "",
            "zerolinecolor": "white"
           }
          },
          "shapedefaults": {
           "line": {
            "color": "#2a3f5f"
           }
          },
          "ternary": {
           "aaxis": {
            "gridcolor": "white",
            "linecolor": "white",
            "ticks": ""
           },
           "baxis": {
            "gridcolor": "white",
            "linecolor": "white",
            "ticks": ""
           },
           "bgcolor": "#E5ECF6",
           "caxis": {
            "gridcolor": "white",
            "linecolor": "white",
            "ticks": ""
           }
          },
          "title": {
           "x": 0.05
          },
          "xaxis": {
           "automargin": true,
           "gridcolor": "white",
           "linecolor": "white",
           "ticks": "",
           "title": {
            "standoff": 15
           },
           "zerolinecolor": "white",
           "zerolinewidth": 2
          },
          "yaxis": {
           "automargin": true,
           "gridcolor": "white",
           "linecolor": "white",
           "ticks": "",
           "title": {
            "standoff": 15
           },
           "zerolinecolor": "white",
           "zerolinewidth": 2
          }
         }
        },
        "title": {
         "text": "Número de Contratos por Tipo y Año"
        },
        "width": 1000,
        "xaxis": {
         "anchor": "y",
         "domain": [
          0,
          1
         ],
         "tickangle": 0,
         "title": {
          "text": "Año"
         }
        },
        "yaxis": {
         "anchor": "x",
         "domain": [
          0,
          1
         ],
         "title": {
          "text": "Número de Contratos"
         }
        }
       }
      }
     },
     "metadata": {},
     "output_type": "display_data"
    }
   ],
   "source": [
    "# Realizar agrupaciones\n",
    "DF_tipo_por_año = DF_contratos_v1.groupby(['fecha_de_firma_ano', 'tipo_de_contrato']).size().unstack().reset_index()\n",
    "\n",
    "# Crear gráfico\n",
    "fig = px.bar(\n",
    "    DF_tipo_por_año, \n",
    "    x='fecha_de_firma_ano', \n",
    "    y=DF_tipo_por_año.columns[1:],\n",
    "    title='Número de Contratos por tipo y Año',\n",
    "    labels={'fecha_de_firma_ano': 'Año'}\n",
    ")\n",
    "\n",
    "# Diseño\n",
    "fig.update_layout(\n",
    "    xaxis_title='Año',\n",
    "    yaxis_title='Número de Contratos',\n",
    "    title='Número de Contratos por Tipo y Año',\n",
    "    plot_bgcolor='rgba(0, 0, 0, 0)',\n",
    "    xaxis_tickangle = 0,\n",
    "    showlegend = True,\n",
    "    height = 600,\n",
    "    width = 1000\n",
    ")\n",
    "\n",
    "# Mostrar el gráfico\n",
    "fig.show()\n",
    "\n",
    "# Guardar la gráfica como imagen\n",
    "fig.write_image(\"graficas/grafica5.png\")"
   ]
  },
  {
   "cell_type": "markdown",
   "metadata": {},
   "source": [
    "![Gráfica](graficas/grafica5.png)"
   ]
  },
  {
   "cell_type": "markdown",
   "metadata": {},
   "source": [
    "En términos agregados el DNP, tiene su concentración por número de contratos en prestación de servicios profesionales con un 89.75%, es el andamiaje institucional que permite el cumplimiento misional y por ende en todas las vigencias se presenta la mayor carga en desarrollar contratos para personas naturales y jurídicas. Sin embargo, en montos el tipo de contratos otros lideran con aproximadamente 3 billones de pesos, el cual se debe ahondar que puede estar generando ese incremento de apropiaciones y adjudicaciones por parte de la entidad."
   ]
  },
  {
   "cell_type": "markdown",
   "metadata": {},
   "source": [
    "### Análisis de recursos por años:"
   ]
  },
  {
   "cell_type": "code",
   "execution_count": 28,
   "metadata": {},
   "outputs": [
    {
     "data": {
      "text/html": [
       "<div>\n",
       "<style scoped>\n",
       "    .dataframe tbody tr th:only-of-type {\n",
       "        vertical-align: middle;\n",
       "    }\n",
       "\n",
       "    .dataframe tbody tr th {\n",
       "        vertical-align: top;\n",
       "    }\n",
       "\n",
       "    .dataframe thead tr th {\n",
       "        text-align: left;\n",
       "    }\n",
       "\n",
       "    .dataframe thead tr:last-of-type th {\n",
       "        text-align: right;\n",
       "    }\n",
       "</style>\n",
       "<table border=\"1\" class=\"dataframe\">\n",
       "  <thead>\n",
       "    <tr>\n",
       "      <th></th>\n",
       "      <th colspan=\"4\" halign=\"left\">valor_del_contrato</th>\n",
       "      <th>Total</th>\n",
       "    </tr>\n",
       "    <tr>\n",
       "      <th>fecha_de_firma_ano</th>\n",
       "      <th>2020</th>\n",
       "      <th>2021</th>\n",
       "      <th>2022</th>\n",
       "      <th>2023</th>\n",
       "      <th></th>\n",
       "    </tr>\n",
       "    <tr>\n",
       "      <th>tipo_de_contrato</th>\n",
       "      <th></th>\n",
       "      <th></th>\n",
       "      <th></th>\n",
       "      <th></th>\n",
       "      <th></th>\n",
       "    </tr>\n",
       "  </thead>\n",
       "  <tbody>\n",
       "    <tr>\n",
       "      <th>Arrendamiento de inmuebles</th>\n",
       "      <td>5,919,735,966.00</td>\n",
       "      <td>47,940,357.00</td>\n",
       "      <td>1,797,593,611.00</td>\n",
       "      <td>55,335,000.00</td>\n",
       "      <td>7,820,604,934.00</td>\n",
       "    </tr>\n",
       "    <tr>\n",
       "      <th>Arrendamiento de muebles</th>\n",
       "      <td>154,024,500.00</td>\n",
       "      <td>0.00</td>\n",
       "      <td>0.00</td>\n",
       "      <td>0.00</td>\n",
       "      <td>154,024,500.00</td>\n",
       "    </tr>\n",
       "    <tr>\n",
       "      <th>Comodato</th>\n",
       "      <td>0.00</td>\n",
       "      <td>0.00</td>\n",
       "      <td>0.00</td>\n",
       "      <td>0.00</td>\n",
       "      <td>0.00</td>\n",
       "    </tr>\n",
       "    <tr>\n",
       "      <th>Compraventa</th>\n",
       "      <td>3,538,802,852.00</td>\n",
       "      <td>7,245,840,907.00</td>\n",
       "      <td>3,053,278,885.00</td>\n",
       "      <td>5,844,361,058.00</td>\n",
       "      <td>19,682,283,702.00</td>\n",
       "    </tr>\n",
       "    <tr>\n",
       "      <th>Consultoría</th>\n",
       "      <td>19,356,250,892.00</td>\n",
       "      <td>0.00</td>\n",
       "      <td>11,127,875,210.00</td>\n",
       "      <td>3,749,999,660.00</td>\n",
       "      <td>34,234,125,762.00</td>\n",
       "    </tr>\n",
       "    <tr>\n",
       "      <th>No Especificado</th>\n",
       "      <td>0.00</td>\n",
       "      <td>0.00</td>\n",
       "      <td>0.00</td>\n",
       "      <td>9,866,662.00</td>\n",
       "      <td>9,866,662.00</td>\n",
       "    </tr>\n",
       "    <tr>\n",
       "      <th>Obra</th>\n",
       "      <td>0.00</td>\n",
       "      <td>17,123,719,328.00</td>\n",
       "      <td>0.00</td>\n",
       "      <td>137,606,700.00</td>\n",
       "      <td>17,261,326,028.00</td>\n",
       "    </tr>\n",
       "    <tr>\n",
       "      <th>Otro</th>\n",
       "      <td>60,227,891,702.00</td>\n",
       "      <td>2,922,056,754,274.00</td>\n",
       "      <td>49,556,383,205.00</td>\n",
       "      <td>23,935,997,929.00</td>\n",
       "      <td>3,055,777,027,110.00</td>\n",
       "    </tr>\n",
       "    <tr>\n",
       "      <th>Prestación de servicios</th>\n",
       "      <td>72,087,650,141.00</td>\n",
       "      <td>86,657,955,111.00</td>\n",
       "      <td>95,083,567,368.00</td>\n",
       "      <td>92,326,303,497.00</td>\n",
       "      <td>346,155,476,117.00</td>\n",
       "    </tr>\n",
       "    <tr>\n",
       "      <th>Seguros</th>\n",
       "      <td>1,898,812,861.00</td>\n",
       "      <td>943,559,812.00</td>\n",
       "      <td>367,794,552.00</td>\n",
       "      <td>2,056,357,926.00</td>\n",
       "      <td>5,266,525,151.00</td>\n",
       "    </tr>\n",
       "    <tr>\n",
       "      <th>Servicios financieros</th>\n",
       "      <td>0.00</td>\n",
       "      <td>0.00</td>\n",
       "      <td>0.00</td>\n",
       "      <td>24,800,000.00</td>\n",
       "      <td>24,800,000.00</td>\n",
       "    </tr>\n",
       "    <tr>\n",
       "      <th>Suministros</th>\n",
       "      <td>0.00</td>\n",
       "      <td>187,460,014.00</td>\n",
       "      <td>4,785,825,459.00</td>\n",
       "      <td>5,509,260,813.00</td>\n",
       "      <td>10,482,546,286.00</td>\n",
       "    </tr>\n",
       "    <tr>\n",
       "      <th>Total</th>\n",
       "      <td>163,183,168,914.00</td>\n",
       "      <td>3,034,263,229,803.00</td>\n",
       "      <td>165,772,318,290.00</td>\n",
       "      <td>133,649,889,245.00</td>\n",
       "      <td>3,496,868,606,252.00</td>\n",
       "    </tr>\n",
       "  </tbody>\n",
       "</table>\n",
       "</div>"
      ],
      "text/plain": [
       "                           valor_del_contrato                       \\\n",
       "fecha_de_firma_ano                       2020                 2021   \n",
       "tipo_de_contrato                                                     \n",
       "Arrendamiento de inmuebles   5,919,735,966.00        47,940,357.00   \n",
       "Arrendamiento de muebles       154,024,500.00                 0.00   \n",
       "Comodato                                 0.00                 0.00   \n",
       "Compraventa                  3,538,802,852.00     7,245,840,907.00   \n",
       "Consultoría                 19,356,250,892.00                 0.00   \n",
       "No Especificado                          0.00                 0.00   \n",
       "Obra                                     0.00    17,123,719,328.00   \n",
       "Otro                        60,227,891,702.00 2,922,056,754,274.00   \n",
       "Prestación de servicios     72,087,650,141.00    86,657,955,111.00   \n",
       "Seguros                      1,898,812,861.00       943,559,812.00   \n",
       "Servicios financieros                    0.00                 0.00   \n",
       "Suministros                              0.00       187,460,014.00   \n",
       "Total                      163,183,168,914.00 3,034,263,229,803.00   \n",
       "\n",
       "                                                                  \\\n",
       "fecha_de_firma_ano                       2022               2023   \n",
       "tipo_de_contrato                                                   \n",
       "Arrendamiento de inmuebles   1,797,593,611.00      55,335,000.00   \n",
       "Arrendamiento de muebles                 0.00               0.00   \n",
       "Comodato                                 0.00               0.00   \n",
       "Compraventa                  3,053,278,885.00   5,844,361,058.00   \n",
       "Consultoría                 11,127,875,210.00   3,749,999,660.00   \n",
       "No Especificado                          0.00       9,866,662.00   \n",
       "Obra                                     0.00     137,606,700.00   \n",
       "Otro                        49,556,383,205.00  23,935,997,929.00   \n",
       "Prestación de servicios     95,083,567,368.00  92,326,303,497.00   \n",
       "Seguros                        367,794,552.00   2,056,357,926.00   \n",
       "Servicios financieros                    0.00      24,800,000.00   \n",
       "Suministros                  4,785,825,459.00   5,509,260,813.00   \n",
       "Total                      165,772,318,290.00 133,649,889,245.00   \n",
       "\n",
       "                                          Total  \n",
       "fecha_de_firma_ano                               \n",
       "tipo_de_contrato                                 \n",
       "Arrendamiento de inmuebles     7,820,604,934.00  \n",
       "Arrendamiento de muebles         154,024,500.00  \n",
       "Comodato                                   0.00  \n",
       "Compraventa                   19,682,283,702.00  \n",
       "Consultoría                   34,234,125,762.00  \n",
       "No Especificado                    9,866,662.00  \n",
       "Obra                          17,261,326,028.00  \n",
       "Otro                       3,055,777,027,110.00  \n",
       "Prestación de servicios      346,155,476,117.00  \n",
       "Seguros                        5,266,525,151.00  \n",
       "Servicios financieros             24,800,000.00  \n",
       "Suministros                   10,482,546,286.00  \n",
       "Total                      3,496,868,606,252.00  "
      ]
     },
     "execution_count": 28,
     "metadata": {},
     "output_type": "execute_result"
    }
   ],
   "source": [
    "# Agrupar y calcular la suma y la cantidad\n",
    "DF_estado_contrato = DF_contratos_v1.groupby(['tipo_de_contrato', 'fecha_de_firma_ano']).agg(\n",
    "    valor_del_contrato=('valor_del_contrato', 'sum'),\n",
    "    numero_de_contratos=('estado_contrato', 'size')\n",
    ")\n",
    "\n",
    "# Obtener años en columnas\n",
    "DF_estado_contrato = DF_estado_contrato.pivot_table(index='tipo_de_contrato', columns='fecha_de_firma_ano', values=['valor_del_contrato'], fill_value=0)\n",
    "\n",
    "# Calcular el total por columna (suma de cada año)\n",
    "DF_estado_contrato.loc['Total', :] = DF_estado_contrato.sum()\n",
    "\n",
    "# Calcular el total por fila (suma de cada estado de contrato)\n",
    "DF_estado_contrato['Total'] = DF_estado_contrato.sum(axis=1)\n",
    "\n",
    "DF_estado_contrato # Mostrar base"
   ]
  },
  {
   "cell_type": "markdown",
   "metadata": {},
   "source": [
    "Una vez identificado los tipos de contrato de mayor concentración por número de contratos y por su respectivo valor de adjudicación, procedemos a evaluar la tendencia de las vigencias 2020 al 2023 de los recursos y siendo efectivamente un dato atípico en para la vigencia 2021 por tipo de contrato “otro”:\n",
    "\n",
    "Ese contrato corresponde a:\n",
    "\n",
    "- Contratación directa por convenio interadministrativo.\n",
    "- Su valor de adjudicación 2.870.993.010.534\n",
    "- Empresa en territorio encargada de su ejecución.\n",
    "- Objeto contractual: DNP confiere mandato a en territorio para realizar la administración y operación del Fondo Regional para los Contratos Plan Pactos Territoriales con los recursos que ingresen a este y los demás que le sean transferidos\n",
    "\n",
    "De acuerdo con este dato atípico encontrado, que tenia su enfoque postpandemia en fortalecer las inversiones regionales, de igual manera:\n",
    "\n",
    "“Los Pactos Territoriales están definidos como un instrumento de articulación para la concertación de inversiones estratégicas de alto impacto que contribuyan a consolidar el desarrollo regional definido en el Plan Nacional de Desarrollo (PND y la construcción de la Paz Total).\n",
    "Para ello, proveen la adopción de metodologías con enfoque de género a través del trabajo articulado con la Consejería Presidencial para la Equidad de la Mujer; y la concurrencia de recursos del orden nacional y territorial, público, privado y/o de cooperación internacional, bajo la coordinación del Departamento Nacional de Planeación (DNP). Los departamentos, municipios, Esquemas Asociativos Territoriales y la Nación podrán suscribir este tipo de pactos”\n",
    "\n",
    "Fuente: https://www.dnp.gov.co/LaEntidad_/subdireccion-general-inversiones-seguimiento-evaluacion/direccion-programacion-inversiones-publicas/Paginas/pactos-territoriales.aspx#:~:text=%E2%80%8BLos%20Pactos%20Territoriales%20est%C3%A1n,construcci%C3%B3n%20de%20la%20Paz%20Total.\n",
    "\n",
    "Es por este año que refleja ese esfuerzo institucional, el cual distorsiona la tendencia de los recursos apropiados para el funcionamiento e inversión del DNP, es por esto por lo que a continuación evidenciamos las tendencias por totales aislando este contrato, y concluyendo que la entidad no genera incrementos sustanciales para el andamiaje institucional.\n"
   ]
  },
  {
   "cell_type": "code",
   "execution_count": 29,
   "metadata": {},
   "outputs": [
    {
     "data": {
      "text/html": [
       "<div>\n",
       "<style scoped>\n",
       "    .dataframe tbody tr th:only-of-type {\n",
       "        vertical-align: middle;\n",
       "    }\n",
       "\n",
       "    .dataframe tbody tr th {\n",
       "        vertical-align: top;\n",
       "    }\n",
       "\n",
       "    .dataframe thead tr th {\n",
       "        text-align: left;\n",
       "    }\n",
       "\n",
       "    .dataframe thead tr:last-of-type th {\n",
       "        text-align: right;\n",
       "    }\n",
       "</style>\n",
       "<table border=\"1\" class=\"dataframe\">\n",
       "  <thead>\n",
       "    <tr>\n",
       "      <th></th>\n",
       "      <th colspan=\"4\" halign=\"left\">valor_del_contrato</th>\n",
       "    </tr>\n",
       "    <tr>\n",
       "      <th>fecha_de_firma_ano</th>\n",
       "      <th>2020</th>\n",
       "      <th>2021</th>\n",
       "      <th>2022</th>\n",
       "      <th>2023</th>\n",
       "    </tr>\n",
       "    <tr>\n",
       "      <th>tipo_de_contrato</th>\n",
       "      <th></th>\n",
       "      <th></th>\n",
       "      <th></th>\n",
       "      <th></th>\n",
       "    </tr>\n",
       "  </thead>\n",
       "  <tbody>\n",
       "    <tr>\n",
       "      <th>Arrendamiento de inmuebles</th>\n",
       "      <td>5,919,735,966.00</td>\n",
       "      <td>47,940,357.00</td>\n",
       "      <td>1,797,593,611.00</td>\n",
       "      <td>55,335,000.00</td>\n",
       "    </tr>\n",
       "    <tr>\n",
       "      <th>Arrendamiento de muebles</th>\n",
       "      <td>154,024,500.00</td>\n",
       "      <td>0.00</td>\n",
       "      <td>0.00</td>\n",
       "      <td>0.00</td>\n",
       "    </tr>\n",
       "    <tr>\n",
       "      <th>Comodato</th>\n",
       "      <td>0.00</td>\n",
       "      <td>0.00</td>\n",
       "      <td>0.00</td>\n",
       "      <td>0.00</td>\n",
       "    </tr>\n",
       "    <tr>\n",
       "      <th>Compraventa</th>\n",
       "      <td>3,538,802,852.00</td>\n",
       "      <td>7,245,840,907.00</td>\n",
       "      <td>3,053,278,885.00</td>\n",
       "      <td>5,844,361,058.00</td>\n",
       "    </tr>\n",
       "    <tr>\n",
       "      <th>Consultoría</th>\n",
       "      <td>19,356,250,892.00</td>\n",
       "      <td>0.00</td>\n",
       "      <td>11,127,875,210.00</td>\n",
       "      <td>3,749,999,660.00</td>\n",
       "    </tr>\n",
       "    <tr>\n",
       "      <th>No Especificado</th>\n",
       "      <td>0.00</td>\n",
       "      <td>0.00</td>\n",
       "      <td>0.00</td>\n",
       "      <td>9,866,662.00</td>\n",
       "    </tr>\n",
       "    <tr>\n",
       "      <th>Obra</th>\n",
       "      <td>0.00</td>\n",
       "      <td>17,123,719,328.00</td>\n",
       "      <td>0.00</td>\n",
       "      <td>137,606,700.00</td>\n",
       "    </tr>\n",
       "    <tr>\n",
       "      <th>Otro</th>\n",
       "      <td>60,227,891,702.00</td>\n",
       "      <td>51,063,743,740.00</td>\n",
       "      <td>49,556,383,205.00</td>\n",
       "      <td>23,935,997,929.00</td>\n",
       "    </tr>\n",
       "    <tr>\n",
       "      <th>Prestación de servicios</th>\n",
       "      <td>72,087,650,141.00</td>\n",
       "      <td>86,657,955,111.00</td>\n",
       "      <td>95,083,567,368.00</td>\n",
       "      <td>92,326,303,497.00</td>\n",
       "    </tr>\n",
       "    <tr>\n",
       "      <th>Seguros</th>\n",
       "      <td>1,898,812,861.00</td>\n",
       "      <td>943,559,812.00</td>\n",
       "      <td>367,794,552.00</td>\n",
       "      <td>2,056,357,926.00</td>\n",
       "    </tr>\n",
       "    <tr>\n",
       "      <th>Servicios financieros</th>\n",
       "      <td>0.00</td>\n",
       "      <td>0.00</td>\n",
       "      <td>0.00</td>\n",
       "      <td>24,800,000.00</td>\n",
       "    </tr>\n",
       "    <tr>\n",
       "      <th>Suministros</th>\n",
       "      <td>0.00</td>\n",
       "      <td>187,460,014.00</td>\n",
       "      <td>4,785,825,459.00</td>\n",
       "      <td>5,509,260,813.00</td>\n",
       "    </tr>\n",
       "    <tr>\n",
       "      <th>Total</th>\n",
       "      <td>163,183,168,914.00</td>\n",
       "      <td>163,270,219,269.00</td>\n",
       "      <td>165,772,318,290.00</td>\n",
       "      <td>133,649,889,245.00</td>\n",
       "    </tr>\n",
       "  </tbody>\n",
       "</table>\n",
       "</div>"
      ],
      "text/plain": [
       "                           valor_del_contrato                     \\\n",
       "fecha_de_firma_ano                       2020               2021   \n",
       "tipo_de_contrato                                                   \n",
       "Arrendamiento de inmuebles   5,919,735,966.00      47,940,357.00   \n",
       "Arrendamiento de muebles       154,024,500.00               0.00   \n",
       "Comodato                                 0.00               0.00   \n",
       "Compraventa                  3,538,802,852.00   7,245,840,907.00   \n",
       "Consultoría                 19,356,250,892.00               0.00   \n",
       "No Especificado                          0.00               0.00   \n",
       "Obra                                     0.00  17,123,719,328.00   \n",
       "Otro                        60,227,891,702.00  51,063,743,740.00   \n",
       "Prestación de servicios     72,087,650,141.00  86,657,955,111.00   \n",
       "Seguros                      1,898,812,861.00     943,559,812.00   \n",
       "Servicios financieros                    0.00               0.00   \n",
       "Suministros                              0.00     187,460,014.00   \n",
       "Total                      163,183,168,914.00 163,270,219,269.00   \n",
       "\n",
       "                                                                  \n",
       "fecha_de_firma_ano                       2022               2023  \n",
       "tipo_de_contrato                                                  \n",
       "Arrendamiento de inmuebles   1,797,593,611.00      55,335,000.00  \n",
       "Arrendamiento de muebles                 0.00               0.00  \n",
       "Comodato                                 0.00               0.00  \n",
       "Compraventa                  3,053,278,885.00   5,844,361,058.00  \n",
       "Consultoría                 11,127,875,210.00   3,749,999,660.00  \n",
       "No Especificado                          0.00       9,866,662.00  \n",
       "Obra                                     0.00     137,606,700.00  \n",
       "Otro                        49,556,383,205.00  23,935,997,929.00  \n",
       "Prestación de servicios     95,083,567,368.00  92,326,303,497.00  \n",
       "Seguros                        367,794,552.00   2,056,357,926.00  \n",
       "Servicios financieros                    0.00      24,800,000.00  \n",
       "Suministros                  4,785,825,459.00   5,509,260,813.00  \n",
       "Total                      165,772,318,290.00 133,649,889,245.00  "
      ]
     },
     "execution_count": 29,
     "metadata": {},
     "output_type": "execute_result"
    }
   ],
   "source": [
    "# Filtrar por el valor específico en la columna 'valor_del_contrato'\n",
    "DF_contratos_filtrado = DF_contratos_v1[DF_contratos_v1['valor_del_contrato'] != 2870993010534]\n",
    "\n",
    "# Agrupar y calcular la suma y la cantidad para el DataFrame filtrado\n",
    "DF_estado_contrato = DF_contratos_filtrado.groupby(['tipo_de_contrato', 'fecha_de_firma_ano']).agg(\n",
    "    valor_del_contrato=('valor_del_contrato', 'sum'),\n",
    "    numero_de_contratos=('estado_contrato', 'size')\n",
    ")\n",
    "\n",
    "# Obtener años en columnas\n",
    "DF_estado_contrato = DF_estado_contrato.pivot_table(index='tipo_de_contrato', columns='fecha_de_firma_ano', values=['valor_del_contrato'], fill_value=0)\n",
    "\n",
    "# Calcular el total por columna (suma de cada año)\n",
    "DF_estado_contrato.loc['Total', :] = DF_estado_contrato.sum()\n",
    "\n",
    "# # Calcular el total por fila (suma de cada estado de contrato)\n",
    "# DF_estado_contrato['Total'] = DF_estado_contrato.sum(axis=1)\n",
    "\n",
    "DF_estado_contrato # Mostrar base"
   ]
  },
  {
   "cell_type": "code",
   "execution_count": 30,
   "metadata": {},
   "outputs": [
    {
     "data": {
      "text/html": [
       "<div>\n",
       "<style scoped>\n",
       "    .dataframe tbody tr th:only-of-type {\n",
       "        vertical-align: middle;\n",
       "    }\n",
       "\n",
       "    .dataframe tbody tr th {\n",
       "        vertical-align: top;\n",
       "    }\n",
       "\n",
       "    .dataframe thead tr th {\n",
       "        text-align: left;\n",
       "    }\n",
       "\n",
       "    .dataframe thead tr:last-of-type th {\n",
       "        text-align: right;\n",
       "    }\n",
       "</style>\n",
       "<table border=\"1\" class=\"dataframe\">\n",
       "  <thead>\n",
       "    <tr>\n",
       "      <th></th>\n",
       "      <th></th>\n",
       "      <th colspan=\"4\" halign=\"left\">valor_del_contrato</th>\n",
       "    </tr>\n",
       "    <tr>\n",
       "      <th></th>\n",
       "      <th>fecha_de_firma_ano</th>\n",
       "      <th>2020</th>\n",
       "      <th>2021</th>\n",
       "      <th>2022</th>\n",
       "      <th>2023</th>\n",
       "    </tr>\n",
       "    <tr>\n",
       "      <th></th>\n",
       "      <th>tipo_de_contrato</th>\n",
       "      <th></th>\n",
       "      <th></th>\n",
       "      <th></th>\n",
       "      <th></th>\n",
       "    </tr>\n",
       "  </thead>\n",
       "  <tbody>\n",
       "    <tr>\n",
       "      <th>Total</th>\n",
       "      <th>Total</th>\n",
       "      <td>163,183,168,914.00</td>\n",
       "      <td>163,270,219,269.00</td>\n",
       "      <td>165,772,318,290.00</td>\n",
       "      <td>133,649,889,245.00</td>\n",
       "    </tr>\n",
       "    <tr>\n",
       "      <th>Variacion</th>\n",
       "      <th>Total</th>\n",
       "      <td>nan%</td>\n",
       "      <td>0.05%</td>\n",
       "      <td>1.53%</td>\n",
       "      <td>-19.38%</td>\n",
       "    </tr>\n",
       "  </tbody>\n",
       "</table>\n",
       "</div>"
      ],
      "text/plain": [
       "                           valor_del_contrato                     \\\n",
       "fecha_de_firma_ano                       2020               2021   \n",
       "          tipo_de_contrato                                         \n",
       "Total     Total            163,183,168,914.00 163,270,219,269.00   \n",
       "Variacion Total                          nan%              0.05%   \n",
       "\n",
       "                                                                  \n",
       "fecha_de_firma_ano                       2022               2023  \n",
       "          tipo_de_contrato                                        \n",
       "Total     Total            165,772,318,290.00 133,649,889,245.00  \n",
       "Variacion Total                         1.53%            -19.38%  "
      ]
     },
     "execution_count": 30,
     "metadata": {},
     "output_type": "execute_result"
    }
   ],
   "source": [
    "# Filtrar solo los totales\n",
    "DF_totales = DF_estado_contrato.loc[['Total'], :]\n",
    "\n",
    "# Calcular la variación de los totales por columna\n",
    "DF_totales_variacion = (DF_totales.pct_change(axis=1) * 100).round(2).astype(str) + '%'\n",
    "\n",
    "# Agregar la variación como una nueva fila\n",
    "DF_totales_con_variacion = pd.concat([DF_totales, DF_totales_variacion], axis=0, keys=['Total', 'Variacion'])\n",
    "\n",
    "# Mostrar el DataFrame con los totales y su variación\n",
    "DF_totales_con_variacion"
   ]
  },
  {
   "cell_type": "markdown",
   "metadata": {},
   "source": [
    "### Conclusiones:"
   ]
  },
  {
   "cell_type": "markdown",
   "metadata": {},
   "source": [
    "Como podemos observar del año 2020 al 2021 solo existió una variación del 0.05% (cabe resaltar que la vigencia 2021 se aíslo el contrato por 2.8 billones y entender la dinámica de gasto sin datos atípicos del DNP. De igual manera para las siguientes vigencias se mantiene en términos nominales valores que rondan los 160 mil millones aproximadamente, incluso anotando que para la vigencia 2023 solo es el corte a mes de octubre, faltando cifras de cierre y reafirmar la premisa de incrementos no superiores al 2%.\n",
    "\n",
    "Es posible observar además que la gestión administrativa del Departamento Nacional de Planeación (DNP), refleja una alta concentración de contratos al inicio de cada vigencia. Si revisamos el estado de los contratos, podemos ver que por ejemplo, los contratos activos de vigencias anteriores, podrían eventualmente indicar una falta de gestión en la liquidación o cierre de estos contratos.\n",
    "\n",
    "En el informe, encontramos también que, la contratación del DNP se concentró en gran medida en la contratación directa, que representó un 83% de los contratos. Además el 89.75% de los contratos son por prestación de servicios profesionales.\n",
    "\n",
    "Durante el 2021 se detectó además un dato atípico que corresponde a un convenio interadministrativo con un valor de adjudicación de 2.870.993.010.534. Dicho contrato que tenía como objetivo fortalecer la inversiones regionales postpandemia, distorsiona la tendencia de los recursos apropiados para el funcionamiento e inversión del DNP, ya que no sólo modifica la media sino que al crear los cluster, encontramos un sesgo importante por este dato.\n",
    "\n",
    "Al aislar este contrato atípico, se concluye que la entidad no genera incrementos sustanciales para el andamiaje institucional. Esto sugiere que, a pesar de la presencia de algunos contratos de alto valor, la mayoría de los recursos del DNP se destinan a mantener su funcionamiento regular\n"
   ]
  }
 ],
 "metadata": {
  "kernelspec": {
   "display_name": "Python 3",
   "language": "python",
   "name": "python3"
  },
  "language_info": {
   "codemirror_mode": {
    "name": "ipython",
    "version": 3
   },
   "file_extension": ".py",
   "mimetype": "text/x-python",
   "name": "python",
   "nbconvert_exporter": "python",
   "pygments_lexer": "ipython3",
   "version": "3.11.3"
  }
 },
 "nbformat": 4,
 "nbformat_minor": 2
}
